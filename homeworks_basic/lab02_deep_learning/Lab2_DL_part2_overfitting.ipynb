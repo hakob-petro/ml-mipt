{
  "cells": [
    {
      "cell_type": "markdown",
      "metadata": {
        "id": "NFmOh482SyEF"
      },
      "source": [
        "## Lab 2\n",
        "### Part 2: Dealing with overfitting"
      ]
    },
    {
      "cell_type": "markdown",
      "metadata": {
        "id": "AjzAuO3oSvsI"
      },
      "source": [
        "Today we work with [Fashion-MNIST dataset](https://github.com/zalandoresearch/fashion-mnist) (*hint: it is available in `torchvision`*).\n",
        "\n",
        "Your goal for today:\n",
        "1. Train a FC (fully-connected) network that achieves >= 0.885 test accuracy.\n",
        "2. Cause considerable overfitting by modifying the network (e.g. increasing the number of network parameters and/or layers) and demonstrate in in the appropriate way (e.g. plot loss and accurasy on train and validation set w.r.t. network complexity).\n",
        "3. Try to deal with overfitting (at least partially) by using regularization techniques (Dropout/Batchnorm/...) and demonstrate the results.\n",
        "\n",
        "__Please, write a small report describing your ideas, tries and achieved results in the end of this file.__\n",
        "\n",
        "*Note*: Tasks 2 and 3 are interrelated, in task 3 your goal is to make the network from task 2 less prone to overfitting. Task 1 is independent from 2 and 3.\n",
        "\n",
        "*Note 2*: We recomment to use Google Colab or other machine with GPU acceleration."
      ]
    },
    {
      "cell_type": "code",
      "execution_count": 2,
      "metadata": {
        "id": "_KBld6VOSwhW"
      },
      "outputs": [],
      "source": [
        "import torch\n",
        "import torch.nn as nn\n",
        "import torchvision\n",
        "import torchvision.transforms as transforms\n",
        "import torchsummary\n",
        "from IPython.display import clear_output\n",
        "from matplotlib import pyplot as plt\n",
        "from matplotlib.pyplot import figure\n",
        "import numpy as np\n",
        "import os\n",
        "\n",
        "\n",
        "device = 'cuda:0' if torch.cuda.is_available() else 'cpu'"
      ]
    },
    {
      "cell_type": "code",
      "execution_count": 3,
      "metadata": {
        "colab": {
          "base_uri": "https://localhost:8080/"
        },
        "id": "EdLOG0XqS_g5",
        "outputId": "c022036e-fd25-40bf-ebda-f1658b48010a"
      },
      "outputs": [
        {
          "output_type": "stream",
          "name": "stdout",
          "text": [
            "Directory fmnist already exists!\n"
          ]
        }
      ],
      "source": [
        "# Technical function\n",
        "def mkdir(path):\n",
        "    if not os.path.exists(root_path):\n",
        "        os.mkdir(root_path)\n",
        "        print('Directory', path, 'is created!')\n",
        "    else:\n",
        "        print('Directory', path, 'already exists!')\n",
        "        \n",
        "root_path = 'fmnist'\n",
        "mkdir(root_path)"
      ]
    },
    {
      "cell_type": "code",
      "execution_count": 4,
      "metadata": {
        "id": "qt6LE7XaTDT9"
      },
      "outputs": [],
      "source": [
        "from torch.utils.data.sampler import SubsetRandomSampler\n",
        "\n",
        "download = True\n",
        "valid_size = 0.2\n",
        "num_workers = 10\n",
        "train_transform = transforms.ToTensor()\n",
        "test_transform = transforms.ToTensor()\n",
        "transforms.Compose((transforms.ToTensor()))\n",
        "\n",
        "\n",
        "fmnist_dataset_train = torchvision.datasets.FashionMNIST(root_path, \n",
        "                                                        train=True, \n",
        "                                                        transform=train_transform,\n",
        "                                                        target_transform=None,\n",
        "                                                        download=download)\n",
        "fmnist_dataset_test = torchvision.datasets.FashionMNIST(root_path, \n",
        "                                                       train=False, \n",
        "                                                       transform=test_transform,\n",
        "                                                       target_transform=None,\n",
        "                                                       download=download)\n",
        "\n",
        "# Obtain training indices that will be used for validation\n",
        "num_train = len(fmnist_dataset_train)\n",
        "indices = list(range(num_train))\n",
        "np.random.shuffle(indices)\n",
        "split = int(np.floor(valid_size * num_train))\n",
        "train_index, valid_index = indices[split:], indices[:split]\n",
        "\n",
        "# Define samplers for obtaining training and validation batches\n",
        "train_sampler = SubsetRandomSampler(train_index)\n",
        "valid_sampler = SubsetRandomSampler(valid_index)"
      ]
    },
    {
      "cell_type": "code",
      "execution_count": 5,
      "metadata": {
        "colab": {
          "base_uri": "https://localhost:8080/"
        },
        "id": "71YP0SPwTIxD",
        "outputId": "4807bc12-dbcb-4430-c9cd-5fc8abb9e6b7"
      },
      "outputs": [
        {
          "output_type": "stream",
          "name": "stderr",
          "text": [
            "/usr/local/lib/python3.7/dist-packages/torch/utils/data/dataloader.py:481: UserWarning: This DataLoader will create 10 worker processes in total. Our suggested max number of worker in current system is 2, which is smaller than what this DataLoader is going to create. Please be aware that excessive worker creation might get DataLoader running slow or even freeze, lower the worker number to avoid potential slowness/freeze if necessary.\n",
            "  cpuset_checked))\n"
          ]
        }
      ],
      "source": [
        "train_loader = torch.utils.data.DataLoader(fmnist_dataset_train, \n",
        "                                           batch_size=128,\n",
        "                                           sampler=train_sampler,\n",
        "                                           num_workers=num_workers)\n",
        "\n",
        "valid_loader = torch.utils.data.DataLoader(fmnist_dataset_train,\n",
        "                                           batch_size=128,\n",
        "                                           sampler=valid_sampler,\n",
        "                                           num_workers=num_workers)\n",
        "\n",
        "test_loader = torch.utils.data.DataLoader(fmnist_dataset_test,\n",
        "                                          batch_size=256,\n",
        "                                          shuffle=False,\n",
        "                                          num_workers=num_workers)"
      ]
    },
    {
      "cell_type": "code",
      "execution_count": 5,
      "metadata": {
        "colab": {
          "base_uri": "https://localhost:8080/"
        },
        "id": "v_YFmF7NTWrQ",
        "outputId": "d21879dd-e4df-4e3f-914f-365f848a14dd"
      },
      "outputs": [
        {
          "output_type": "execute_result",
          "data": {
            "text/plain": [
              "10000"
            ]
          },
          "metadata": {},
          "execution_count": 5
        }
      ],
      "source": [
        "len(fmnist_dataset_test)"
      ]
    },
    {
      "cell_type": "code",
      "execution_count": 6,
      "metadata": {
        "colab": {
          "base_uri": "https://localhost:8080/"
        },
        "id": "aHca15bOTY4B",
        "outputId": "294db51f-e898-4d06-f9f0-27fee3e3d733"
      },
      "outputs": [
        {
          "output_type": "stream",
          "name": "stderr",
          "text": [
            "/usr/local/lib/python3.7/dist-packages/torch/utils/data/dataloader.py:481: UserWarning: This DataLoader will create 10 worker processes in total. Our suggested max number of worker in current system is 2, which is smaller than what this DataLoader is going to create. Please be aware that excessive worker creation might get DataLoader running slow or even freeze, lower the worker number to avoid potential slowness/freeze if necessary.\n",
            "  cpuset_checked))\n"
          ]
        },
        {
          "output_type": "stream",
          "name": "stdout",
          "text": [
            "torch.Size([128, 1, 28, 28])\n",
            "torch.Size([128])\n",
            "128\n"
          ]
        }
      ],
      "source": [
        "for img, label in train_loader:\n",
        "    print(img.shape)\n",
        "#     print(img)\n",
        "    print(label.shape)\n",
        "    print(label.size(0))\n",
        "    break"
      ]
    },
    {
      "cell_type": "code",
      "execution_count": 7,
      "metadata": {
        "colab": {
          "base_uri": "https://localhost:8080/",
          "height": 337
        },
        "id": "392xt-lP11Td",
        "outputId": "92594977-a904-4fed-f108-9de60e6c3303"
      },
      "outputs": [
        {
          "output_type": "stream",
          "name": "stderr",
          "text": [
            "/usr/local/lib/python3.7/dist-packages/torch/utils/data/dataloader.py:481: UserWarning: This DataLoader will create 10 worker processes in total. Our suggested max number of worker in current system is 2, which is smaller than what this DataLoader is going to create. Please be aware that excessive worker creation might get DataLoader running slow or even freeze, lower the worker number to avoid potential slowness/freeze if necessary.\n",
            "  cpuset_checked))\n"
          ]
        },
        {
          "output_type": "execute_result",
          "data": {
            "text/plain": [
              "torch.Size([128])"
            ]
          },
          "metadata": {},
          "execution_count": 7
        },
        {
          "output_type": "display_data",
          "data": {
            "image/png": "[encoded data removed]",
            "text/plain": [
              "<Figure size 432x288 with 1 Axes>"
            ]
          },
          "metadata": {
            "needs_background": "light"
          }
        }
      ],
      "source": [
        "import matplotlib.pyplot as plt\n",
        "\n",
        "plt.imshow(np.squeeze(img[0].permute(1, 2, 0)), cmap='Greys')\n",
        "\n",
        "next(iter(train_loader))[1].size()"
      ]
    },
    {
      "cell_type": "markdown",
      "metadata": {
        "id": "b6OOOffHTfX5"
      },
      "source": [
        "### Task 1\n",
        "Train a network that achieves $\\geq 0.885$ test accuracy. It's fine to use only Linear (`nn.Linear`) layers and activations/dropout/batchnorm. Convolutional layers might be a great use, but we will meet them a bit later."
      ]
    },
    {
      "cell_type": "code",
      "execution_count": 31,
      "metadata": {
        "id": "ftpkTjxlTcFx"
      },
      "outputs": [],
      "source": [
        "import torch.nn.functional as F\n",
        "\n",
        "class TinyNeuralNetwork(nn.Module):\n",
        "    def __init__(self, input_shape=28*28, num_classes=10, input_channels=1):\n",
        "        super(self.__class__, self).__init__()\n",
        "        self.model = nn.Sequential(\n",
        "            nn.Flatten(),\n",
        "            nn.Linear(input_shape, 512),\n",
        "            nn.BatchNorm1d(512),\n",
        "            nn.ReLU(),\n",
        "            nn.Dropout(0.2),\n",
        "            nn.Linear(512, 512),\n",
        "            nn.BatchNorm1d(512),\n",
        "            nn.ReLU(),\n",
        "            nn.Dropout(0.2),\n",
        "            nn.Linear(512, num_classes),\n",
        "            nn.LogSoftmax()\n",
        "        )\n",
        "        \n",
        "    def forward(self, inp):       \n",
        "        out = self.model(inp)\n",
        "        return out"
      ]
    },
    {
      "cell_type": "code",
      "execution_count": 32,
      "metadata": {
        "colab": {
          "base_uri": "https://localhost:8080/"
        },
        "id": "HttcCR6w11Te",
        "outputId": "f57767f5-1cf0-496e-cb1e-f2fafc7c148b"
      },
      "outputs": [
        {
          "output_type": "stream",
          "name": "stdout",
          "text": [
            "----------------------------------------------------------------\n",
            "        Layer (type)               Output Shape         Param #\n",
            "================================================================\n",
            "           Flatten-1                  [-1, 784]               0\n",
            "            Linear-2                  [-1, 512]         401,920\n",
            "       BatchNorm1d-3                  [-1, 512]           1,024\n",
            "              ReLU-4                  [-1, 512]               0\n",
            "           Dropout-5                  [-1, 512]               0\n",
            "            Linear-6                  [-1, 512]         262,656\n",
            "       BatchNorm1d-7                  [-1, 512]           1,024\n",
            "              ReLU-8                  [-1, 512]               0\n",
            "           Dropout-9                  [-1, 512]               0\n",
            "           Linear-10                   [-1, 10]           5,130\n",
            "       LogSoftmax-11                   [-1, 10]               0\n",
            "================================================================\n",
            "Total params: 671,754\n",
            "Trainable params: 671,754\n",
            "Non-trainable params: 0\n",
            "----------------------------------------------------------------\n",
            "Input size (MB): 0.00\n",
            "Forward/backward pass size (MB): 0.04\n",
            "Params size (MB): 2.56\n",
            "Estimated Total Size (MB): 2.60\n",
            "----------------------------------------------------------------\n"
          ]
        },
        {
          "output_type": "stream",
          "name": "stderr",
          "text": [
            "/usr/local/lib/python3.7/dist-packages/torch/nn/modules/container.py:141: UserWarning: Implicit dimension choice for log_softmax has been deprecated. Change the call to include dim=X as an argument.\n",
            "  input = module(input)\n"
          ]
        }
      ],
      "source": [
        "torchsummary.summary(TinyNeuralNetwork().to(device), (28*28,))"
      ]
    },
    {
      "cell_type": "markdown",
      "metadata": {
        "id": "544PGKEnjPr5"
      },
      "source": [
        "Your experiments come here:"
      ]
    },
    {
      "cell_type": "code",
      "execution_count": 33,
      "metadata": {
        "colab": {
          "base_uri": "https://localhost:8080/"
        },
        "id": "i3POFj90Ti-6",
        "outputId": "7a5a1e34-22bc-400f-8f40-8df76ab27948",
        "scrolled": false
      },
      "outputs": [
        {
          "output_type": "stream",
          "name": "stderr",
          "text": [
            "/usr/local/lib/python3.7/dist-packages/torch/utils/data/dataloader.py:481: UserWarning: This DataLoader will create 10 worker processes in total. Our suggested max number of worker in current system is 2, which is smaller than what this DataLoader is going to create. Please be aware that excessive worker creation might get DataLoader running slow or even freeze, lower the worker number to avoid potential slowness/freeze if necessary.\n",
            "  cpuset_checked))\n",
            "/usr/local/lib/python3.7/dist-packages/torch/nn/modules/container.py:141: UserWarning: Implicit dimension choice for log_softmax has been deprecated. Change the call to include dim=X as an argument.\n",
            "  input = module(input)\n"
          ]
        },
        {
          "output_type": "stream",
          "name": "stdout",
          "text": [
            "Epoch: 1 \tTraining Loss: 0.729784 \tValidation Loss: 0.003308\n",
            "Validation loss decreased (inf --> 0.003308).  Saving model ...\n",
            "Epoch: 2 \tTraining Loss: 0.474706 \tValidation Loss: 0.003205\n",
            "Validation loss decreased (0.003308 --> 0.003205).  Saving model ...\n",
            "Epoch: 3 \tTraining Loss: 0.421036 \tValidation Loss: 0.002172\n",
            "Validation loss decreased (0.003205 --> 0.002172).  Saving model ...\n",
            "Epoch: 4 \tTraining Loss: 0.391765 \tValidation Loss: 0.002532\n",
            "Epoch: 5 \tTraining Loss: 0.371240 \tValidation Loss: 0.003081\n",
            "Epoch: 6 \tTraining Loss: 0.356071 \tValidation Loss: 0.003178\n",
            "Epoch: 7 \tTraining Loss: 0.341203 \tValidation Loss: 0.004407\n",
            "Epoch: 8 \tTraining Loss: 0.329372 \tValidation Loss: 0.002953\n",
            "Epoch: 9 \tTraining Loss: 0.318351 \tValidation Loss: 0.003635\n",
            "Epoch: 10 \tTraining Loss: 0.310302 \tValidation Loss: 0.002327\n",
            "Epoch: 11 \tTraining Loss: 0.299797 \tValidation Loss: 0.002222\n",
            "Epoch: 12 \tTraining Loss: 0.291960 \tValidation Loss: 0.002432\n",
            "Epoch: 13 \tTraining Loss: 0.283092 \tValidation Loss: 0.003100\n",
            "Epoch: 14 \tTraining Loss: 0.277402 \tValidation Loss: 0.002822\n",
            "Epoch: 15 \tTraining Loss: 0.272346 \tValidation Loss: 0.003453\n",
            "Epoch: 16 \tTraining Loss: 0.263515 \tValidation Loss: 0.003023\n",
            "Epoch: 17 \tTraining Loss: 0.258398 \tValidation Loss: 0.003014\n",
            "Epoch: 18 \tTraining Loss: 0.250783 \tValidation Loss: 0.002691\n",
            "Epoch: 19 \tTraining Loss: 0.246049 \tValidation Loss: 0.001921\n",
            "Validation loss decreased (0.002172 --> 0.001921).  Saving model ...\n",
            "Epoch: 20 \tTraining Loss: 0.242040 \tValidation Loss: 0.002217\n",
            "Epoch: 21 \tTraining Loss: 0.237662 \tValidation Loss: 0.002680\n",
            "Epoch: 22 \tTraining Loss: 0.227013 \tValidation Loss: 0.002284\n",
            "Epoch: 23 \tTraining Loss: 0.223937 \tValidation Loss: 0.003033\n",
            "Epoch: 24 \tTraining Loss: 0.220528 \tValidation Loss: 0.001543\n",
            "Validation loss decreased (0.001921 --> 0.001543).  Saving model ...\n",
            "Epoch: 25 \tTraining Loss: 0.219430 \tValidation Loss: 0.002882\n",
            "Epoch: 26 \tTraining Loss: 0.211417 \tValidation Loss: 0.001492\n",
            "Validation loss decreased (0.001543 --> 0.001492).  Saving model ...\n",
            "Epoch: 27 \tTraining Loss: 0.208405 \tValidation Loss: 0.002396\n",
            "Epoch: 28 \tTraining Loss: 0.203632 \tValidation Loss: 0.001873\n",
            "Epoch: 29 \tTraining Loss: 0.200005 \tValidation Loss: 0.002186\n",
            "Epoch: 30 \tTraining Loss: 0.196601 \tValidation Loss: 0.002952\n",
            "Epoch: 31 \tTraining Loss: 0.189958 \tValidation Loss: 0.002893\n",
            "Epoch: 32 \tTraining Loss: 0.188431 \tValidation Loss: 0.002078\n",
            "Epoch: 33 \tTraining Loss: 0.183087 \tValidation Loss: 0.001761\n",
            "Epoch: 34 \tTraining Loss: 0.179026 \tValidation Loss: 0.002424\n",
            "Epoch: 35 \tTraining Loss: 0.177855 \tValidation Loss: 0.002057\n",
            "Epoch: 36 \tTraining Loss: 0.172139 \tValidation Loss: 0.002446\n",
            "Epoch: 37 \tTraining Loss: 0.169504 \tValidation Loss: 0.003450\n",
            "Epoch: 38 \tTraining Loss: 0.168264 \tValidation Loss: 0.002766\n",
            "Epoch: 39 \tTraining Loss: 0.161021 \tValidation Loss: 0.003010\n",
            "Epoch: 40 \tTraining Loss: 0.159836 \tValidation Loss: 0.002668\n",
            "Epoch: 41 \tTraining Loss: 0.156908 \tValidation Loss: 0.001471\n",
            "Validation loss decreased (0.001492 --> 0.001471).  Saving model ...\n",
            "Epoch: 42 \tTraining Loss: 0.153360 \tValidation Loss: 0.002645\n",
            "Epoch: 43 \tTraining Loss: 0.151658 \tValidation Loss: 0.002898\n",
            "Epoch: 44 \tTraining Loss: 0.146875 \tValidation Loss: 0.002118\n",
            "Epoch: 45 \tTraining Loss: 0.146350 \tValidation Loss: 0.002901\n",
            "Epoch: 46 \tTraining Loss: 0.143536 \tValidation Loss: 0.003021\n",
            "Epoch: 47 \tTraining Loss: 0.141993 \tValidation Loss: 0.002026\n",
            "Epoch: 48 \tTraining Loss: 0.135636 \tValidation Loss: 0.002660\n",
            "Epoch: 49 \tTraining Loss: 0.132592 \tValidation Loss: 0.002418\n",
            "Epoch: 50 \tTraining Loss: 0.131455 \tValidation Loss: 0.002211\n",
            "CPU times: user 1min 49s, sys: 1min 14s, total: 3min 4s\n",
            "Wall time: 8min 20s\n"
          ]
        }
      ],
      "source": [
        "%%time\n",
        "model = TinyNeuralNetwork().to(device)\n",
        "opt = torch.optim.SGD(model.parameters(),lr = 0.01)\n",
        "loss_func = nn.NLLLoss()\n",
        "\n",
        "n_epochs = 50\n",
        "valid_loss_min = np.Inf  \n",
        "\n",
        "for epoch in range(n_epochs):\n",
        "    train_loss = 0\n",
        "    valid_loss = 0\n",
        "    \n",
        "    ###################\n",
        "    # train the model #\n",
        "    ###################\n",
        "    model.train()\n",
        "    for data,label in train_loader:\n",
        "        opt.zero_grad()\n",
        "        \n",
        "        # Forward\n",
        "        output = model(data.to(device))\n",
        "        loss = loss_func(output,label.to(device))\n",
        "        \n",
        "        # Backward\n",
        "        loss.backward()\n",
        "        opt.step()\n",
        "        \n",
        "        # update running training loss\n",
        "        train_loss += loss.item() * data.size(0)\n",
        "        \n",
        "        \n",
        "    ######################    \n",
        "    # validate the model #\n",
        "    ######################\n",
        "    model.eval()\n",
        "    for data,label in valid_loader:\n",
        "        # Forward\n",
        "        output = model(data.to(device))\n",
        "        loss = loss_func(output,label.to(device))\n",
        "        \n",
        "        valid_loss = loss.item() * data.size(0)\n",
        "    \n",
        "    # Print training/validation statistics \n",
        "    # Calculate average loss over an epoch\n",
        "    train_loss = train_loss / len(train_loader.sampler)\n",
        "    valid_loss = valid_loss / len(valid_loader.sampler)\n",
        "    \n",
        "    print('Epoch: {} \\tTraining Loss: {:.6f} \\tValidation Loss: {:.6f}'.format(\n",
        "        epoch+1, \n",
        "        train_loss,\n",
        "        valid_loss\n",
        "        ))\n",
        "    \n",
        "    # Save model if validation loss has decreased\n",
        "    if valid_loss <= valid_loss_min:\n",
        "        print('Validation loss decreased ({:.6f} --> {:.6f}).  Saving model ...'.format(\n",
        "        valid_loss_min,\n",
        "        valid_loss))\n",
        "        torch.save(model.state_dict(), 'model.pt')\n",
        "        valid_loss_min = valid_loss"
      ]
    },
    {
      "cell_type": "code",
      "execution_count": 34,
      "metadata": {
        "colab": {
          "base_uri": "https://localhost:8080/"
        },
        "id": "R-5PuvLa11Tf",
        "outputId": "a8940340-1502-4519-875f-36719269eece"
      },
      "outputs": [
        {
          "output_type": "execute_result",
          "data": {
            "text/plain": [
              "<All keys matched successfully>"
            ]
          },
          "metadata": {},
          "execution_count": 34
        }
      ],
      "source": [
        "model.load_state_dict(torch.load('model.pt'))"
      ]
    },
    {
      "cell_type": "code",
      "execution_count": 35,
      "metadata": {
        "colab": {
          "base_uri": "https://localhost:8080/"
        },
        "id": "3wL_r95-11Tf",
        "outputId": "579dca82-108f-4905-b0b9-b742bd1959b4"
      },
      "outputs": [
        {
          "output_type": "stream",
          "name": "stderr",
          "text": [
            "/usr/local/lib/python3.7/dist-packages/torch/utils/data/dataloader.py:481: UserWarning: This DataLoader will create 10 worker processes in total. Our suggested max number of worker in current system is 2, which is smaller than what this DataLoader is going to create. Please be aware that excessive worker creation might get DataLoader running slow or even freeze, lower the worker number to avoid potential slowness/freeze if necessary.\n",
            "  cpuset_checked))\n",
            "/usr/local/lib/python3.7/dist-packages/torch/nn/modules/container.py:141: UserWarning: Implicit dimension choice for log_softmax has been deprecated. Change the call to include dim=X as an argument.\n",
            "  input = module(input)\n"
          ]
        },
        {
          "output_type": "stream",
          "name": "stdout",
          "text": [
            "Test Loss: 0.333313\n",
            "\n",
            "Test Accuracy of     0: 82% (821/1000)\n",
            "Test Accuracy of     1: 97% (974/1000)\n",
            "Test Accuracy of     2: 71% (719/1000)\n",
            "Test Accuracy of     3: 92% (923/1000)\n",
            "Test Accuracy of     4: 88% (882/1000)\n",
            "Test Accuracy of     5: 96% (963/1000)\n",
            "Test Accuracy of     6: 71% (718/1000)\n",
            "Test Accuracy of     7: 96% (966/1000)\n",
            "Test Accuracy of     8: 97% (973/1000)\n",
            "Test Accuracy of     9: 95% (955/1000)\n",
            "\n",
            "Test Accuracy (Overall): 88% (8894/10000)\n"
          ]
        }
      ],
      "source": [
        "##################    \n",
        "# test the model #\n",
        "##################\n",
        "\n",
        "# initialize lists to monitor test loss and accuracy\n",
        "test_loss = 0.0\n",
        "class_correct = list(0. for i in range(10))\n",
        "class_total = list(0. for i in range(10))\n",
        "model.eval() # prep model for evaluation\n",
        "for data, target in test_loader:\n",
        "    # Forward\n",
        "    output = model.forward(data.to(device))\n",
        "    loss = loss_func(output, target.to(device))\n",
        "    \n",
        "    test_loss += loss.item()*data.size(0)\n",
        "    \n",
        "    # Convert output probabilities to predicted class\n",
        "    _, pred = torch.max(output, 1)\n",
        "    # compare predictions to true label\n",
        "    correct = np.squeeze(pred.eq(target.to(device).data.view_as(pred)))\n",
        "    \n",
        "    # Calculate test accuracy for each object class\n",
        "    for i in range(len(target)):\n",
        "        label = target.data[i]\n",
        "        class_correct[label] += correct[i].item()\n",
        "        class_total[label] += 1\n",
        "        \n",
        "# Calculate and print avg test loss\n",
        "test_loss = test_loss/len(test_loader.sampler)\n",
        "print('Test Loss: {:.6f}\\n'.format(test_loss))\n",
        "for i in range(10):\n",
        "    if class_total[i] > 0:\n",
        "        print('Test Accuracy of %5s: %2d%% (%2d/%2d)' % (\n",
        "            str(i), 100 * class_correct[i] / class_total[i],\n",
        "            np.sum(class_correct[i]), np.sum(class_total[i])))\n",
        "    else:\n",
        "        print('Test Accuracy of %5s: N/A (no training examples)' % (classes[i]))\n",
        "print('\\nTest Accuracy (Overall): %2d%% (%2d/%2d)' % (\n",
        "    100. * np.sum(class_correct) / np.sum(class_total),\n",
        "    np.sum(class_correct), np.sum(class_total)))"
      ]
    },
    {
      "cell_type": "markdown",
      "metadata": {
        "id": "L7ISqkjmCPB1"
      },
      "source": [
        "### Task 2: Overfit it.\n",
        "Build a network that will overfit to this dataset. Demonstrate the overfitting in the appropriate way (e.g. plot loss and accurasy on train and test set w.r.t. network complexity).\n",
        "\n",
        "*Note:* you also might decrease the size of `train` dataset to enforce the overfitting and speed up the computations."
      ]
    },
    {
      "cell_type": "code",
      "execution_count": 29,
      "metadata": {
        "colab": {
          "base_uri": "https://localhost:8080/"
        },
        "id": "Ge7C_ulr11Tg",
        "outputId": "c0157a4b-b76f-4351-8652-9996bdfcedaf"
      },
      "outputs": [
        {
          "output_type": "stream",
          "name": "stderr",
          "text": [
            "/usr/local/lib/python3.7/dist-packages/torch/utils/data/dataloader.py:481: UserWarning: This DataLoader will create 10 worker processes in total. Our suggested max number of worker in current system is 2, which is smaller than what this DataLoader is going to create. Please be aware that excessive worker creation might get DataLoader running slow or even freeze, lower the worker number to avoid potential slowness/freeze if necessary.\n",
            "  cpuset_checked))\n"
          ]
        }
      ],
      "source": [
        "# Let's decrease the size of train 4 times\n",
        "\n",
        "overfitted_train_index = train_index[:int(len(train_index)/8)]\n",
        "overfitted_train_sampler = SubsetRandomSampler(train_index)\n",
        "overfitted_train_loader = torch.utils.data.DataLoader(fmnist_dataset_train, \n",
        "                                           batch_size=128,\n",
        "                                           sampler=overfitted_train_sampler,\n",
        "                                           num_workers=num_workers)"
      ]
    },
    {
      "cell_type": "code",
      "execution_count": 30,
      "metadata": {
        "id": "H12uAWiGBwJx"
      },
      "outputs": [],
      "source": [
        "class OverfittingNeuralNetwork(nn.Module):\n",
        "    def __init__(self, input_shape=28*28, num_classes=10, input_channels=1):\n",
        "        super(self.__class__, self).__init__()\n",
        "        self.model = nn.Sequential(\n",
        "            nn.Flatten(),\n",
        "            nn.Linear(input_shape, 1024),\n",
        "            nn.Tanh(),\n",
        "            nn.Linear(1024, 1024),\n",
        "            nn.Tanh(),\n",
        "            nn.Linear(1024, 1024),\n",
        "            nn.Tanh(),\n",
        "            nn.Linear(1024, 1024),\n",
        "            nn.Tanh(),\n",
        "            nn.Linear(1024, 1024),\n",
        "            nn.Tanh(),\n",
        "            nn.Linear(1024, 1024),\n",
        "            nn.Tanh(),\n",
        "            nn.Linear(1024, 1024),\n",
        "            nn.Tanh(),\n",
        "            nn.Linear(1024, 1024),\n",
        "            nn.Tanh(),\n",
        "            nn.Linear(1024, 1024),\n",
        "            nn.Tanh(),\n",
        "            nn.Linear(1024, 1024),\n",
        "            nn.Tanh(),\n",
        "            nn.Linear(1024, num_classes),\n",
        "            nn.LogSoftmax()\n",
        "        )\n",
        "        \n",
        "    def forward(self, inp):       \n",
        "        out = self.model(inp)\n",
        "        return out"
      ]
    },
    {
      "cell_type": "code",
      "execution_count": 31,
      "metadata": {
        "colab": {
          "base_uri": "https://localhost:8080/"
        },
        "id": "JgXAKCpvCwqH",
        "outputId": "6241673d-f124-4bc5-abef-f7fcebd0302f"
      },
      "outputs": [
        {
          "output_type": "stream",
          "name": "stdout",
          "text": [
            "----------------------------------------------------------------\n",
            "        Layer (type)               Output Shape         Param #\n",
            "================================================================\n",
            "           Flatten-1                  [-1, 784]               0\n",
            "            Linear-2                 [-1, 1024]         803,840\n",
            "              Tanh-3                 [-1, 1024]               0\n",
            "            Linear-4                 [-1, 1024]       1,049,600\n",
            "              Tanh-5                 [-1, 1024]               0\n",
            "            Linear-6                 [-1, 1024]       1,049,600\n",
            "              Tanh-7                 [-1, 1024]               0\n",
            "            Linear-8                 [-1, 1024]       1,049,600\n",
            "              Tanh-9                 [-1, 1024]               0\n",
            "           Linear-10                 [-1, 1024]       1,049,600\n",
            "             Tanh-11                 [-1, 1024]               0\n",
            "           Linear-12                 [-1, 1024]       1,049,600\n",
            "             Tanh-13                 [-1, 1024]               0\n",
            "           Linear-14                 [-1, 1024]       1,049,600\n",
            "             Tanh-15                 [-1, 1024]               0\n",
            "           Linear-16                 [-1, 1024]       1,049,600\n",
            "             Tanh-17                 [-1, 1024]               0\n",
            "           Linear-18                 [-1, 1024]       1,049,600\n",
            "             Tanh-19                 [-1, 1024]               0\n",
            "           Linear-20                 [-1, 1024]       1,049,600\n",
            "             Tanh-21                 [-1, 1024]               0\n",
            "           Linear-22                   [-1, 10]          10,250\n",
            "       LogSoftmax-23                   [-1, 10]               0\n",
            "================================================================\n",
            "Total params: 10,260,490\n",
            "Trainable params: 10,260,490\n",
            "Non-trainable params: 0\n",
            "----------------------------------------------------------------\n",
            "Input size (MB): 0.00\n",
            "Forward/backward pass size (MB): 0.16\n",
            "Params size (MB): 39.14\n",
            "Estimated Total Size (MB): 39.31\n",
            "----------------------------------------------------------------\n"
          ]
        },
        {
          "output_type": "stream",
          "name": "stderr",
          "text": [
            "/usr/local/lib/python3.7/dist-packages/torch/nn/modules/container.py:141: UserWarning: Implicit dimension choice for log_softmax has been deprecated. Change the call to include dim=X as an argument.\n",
            "  input = module(input)\n"
          ]
        }
      ],
      "source": [
        "torchsummary.summary(OverfittingNeuralNetwork().to(device), (28*28,))"
      ]
    },
    {
      "cell_type": "code",
      "execution_count": 35,
      "metadata": {
        "colab": {
          "base_uri": "https://localhost:8080/"
        },
        "id": "9f7MNRl611Th",
        "outputId": "00f93ce7-2be9-4d38-cd4a-a7af431c9478"
      },
      "outputs": [
        {
          "output_type": "stream",
          "name": "stderr",
          "text": [
            "/usr/local/lib/python3.7/dist-packages/torch/utils/data/dataloader.py:481: UserWarning: This DataLoader will create 10 worker processes in total. Our suggested max number of worker in current system is 2, which is smaller than what this DataLoader is going to create. Please be aware that excessive worker creation might get DataLoader running slow or even freeze, lower the worker number to avoid potential slowness/freeze if necessary.\n",
            "  cpuset_checked))\n",
            "/usr/local/lib/python3.7/dist-packages/torch/nn/modules/container.py:141: UserWarning: Implicit dimension choice for log_softmax has been deprecated. Change the call to include dim=X as an argument.\n",
            "  input = module(input)\n"
          ]
        },
        {
          "output_type": "stream",
          "name": "stdout",
          "text": [
            "Epoch: 1 \tTraining Loss: 2.302895 \tValidation Loss: 0.018395 \tValidation average accuracy: 48.070236\n",
            "Validation loss decreased (inf --> 0.018395).  Saving model ...\n",
            "Epoch: 2 \tTraining Loss: 2.302668 \tValidation Loss: 0.018420 \tValidation average accuracy: 43.719250\n",
            "Epoch: 3 \tTraining Loss: 2.302448 \tValidation Loss: 0.018447 \tValidation average accuracy: 40.249449\n",
            "Epoch: 4 \tTraining Loss: 2.302233 \tValidation Loss: 0.018417 \tValidation average accuracy: 37.375125\n",
            "Epoch: 5 \tTraining Loss: 2.302019 \tValidation Loss: 0.018427 \tValidation average accuracy: 35.022831\n",
            "Epoch: 6 \tTraining Loss: 2.301808 \tValidation Loss: 0.018429 \tValidation average accuracy: 33.158116\n",
            "Epoch: 7 \tTraining Loss: 2.301595 \tValidation Loss: 0.018416 \tValidation average accuracy: 31.542284\n",
            "Epoch: 8 \tTraining Loss: 2.301379 \tValidation Loss: 0.018407 \tValidation average accuracy: 30.142520\n",
            "Epoch: 9 \tTraining Loss: 2.301159 \tValidation Loss: 0.018411 \tValidation average accuracy: 28.891910\n",
            "Epoch: 10 \tTraining Loss: 2.300933 \tValidation Loss: 0.018402 \tValidation average accuracy: 27.743610\n",
            "Epoch: 11 \tTraining Loss: 2.300699 \tValidation Loss: 0.018403 \tValidation average accuracy: 26.695298\n",
            "Epoch: 12 \tTraining Loss: 2.300455 \tValidation Loss: 0.018399 \tValidation average accuracy: 25.834284\n",
            "Epoch: 13 \tTraining Loss: 2.300200 \tValidation Loss: 0.018397 \tValidation average accuracy: 25.050758\n",
            "Epoch: 14 \tTraining Loss: 2.299929 \tValidation Loss: 0.018405 \tValidation average accuracy: 24.710201\n",
            "Epoch: 15 \tTraining Loss: 2.299641 \tValidation Loss: 0.018398 \tValidation average accuracy: 24.573096\n",
            "Epoch: 16 \tTraining Loss: 2.299333 \tValidation Loss: 0.018388 \tValidation average accuracy: 24.583138\n",
            "Validation loss decreased (0.018395 --> 0.018388).  Saving model ...\n",
            "Epoch: 17 \tTraining Loss: 2.299000 \tValidation Loss: 0.018387 \tValidation average accuracy: 24.569838\n",
            "Validation loss decreased (0.018388 --> 0.018387).  Saving model ...\n",
            "Epoch: 18 \tTraining Loss: 2.298639 \tValidation Loss: 0.018397 \tValidation average accuracy: 24.633146\n",
            "Epoch: 19 \tTraining Loss: 2.298242 \tValidation Loss: 0.018392 \tValidation average accuracy: 24.761510\n",
            "Epoch: 20 \tTraining Loss: 2.297805 \tValidation Loss: 0.018380 \tValidation average accuracy: 24.882735\n",
            "Validation loss decreased (0.018387 --> 0.018380).  Saving model ...\n",
            "Epoch: 21 \tTraining Loss: 2.297318 \tValidation Loss: 0.018374 \tValidation average accuracy: 25.004810\n",
            "Validation loss decreased (0.018380 --> 0.018374).  Saving model ...\n",
            "Epoch: 22 \tTraining Loss: 2.296771 \tValidation Loss: 0.018370 \tValidation average accuracy: 25.225121\n",
            "Validation loss decreased (0.018374 --> 0.018370).  Saving model ...\n",
            "Epoch: 23 \tTraining Loss: 2.296150 \tValidation Loss: 0.018355 \tValidation average accuracy: 25.455239\n",
            "Validation loss decreased (0.018370 --> 0.018355).  Saving model ...\n",
            "Epoch: 24 \tTraining Loss: 2.295438 \tValidation Loss: 0.018367 \tValidation average accuracy: 25.763624\n",
            "Epoch: 25 \tTraining Loss: 2.294610 \tValidation Loss: 0.018349 \tValidation average accuracy: 26.233193\n",
            "Validation loss decreased (0.018355 --> 0.018349).  Saving model ...\n",
            "Epoch: 26 \tTraining Loss: 2.293635 \tValidation Loss: 0.018349 \tValidation average accuracy: 26.659743\n",
            "Epoch: 27 \tTraining Loss: 2.292467 \tValidation Loss: 0.018345 \tValidation average accuracy: 27.118242\n",
            "Validation loss decreased (0.018349 --> 0.018345).  Saving model ...\n",
            "Epoch: 28 \tTraining Loss: 2.291042 \tValidation Loss: 0.018320 \tValidation average accuracy: 27.573304\n",
            "Validation loss decreased (0.018345 --> 0.018320).  Saving model ...\n",
            "Epoch: 29 \tTraining Loss: 2.289263 \tValidation Loss: 0.018301 \tValidation average accuracy: 28.019621\n",
            "Validation loss decreased (0.018320 --> 0.018301).  Saving model ...\n",
            "Epoch: 30 \tTraining Loss: 2.286979 \tValidation Loss: 0.018303 \tValidation average accuracy: 28.488752\n",
            "Epoch: 31 \tTraining Loss: 2.283948 \tValidation Loss: 0.018262 \tValidation average accuracy: 28.925897\n",
            "Validation loss decreased (0.018301 --> 0.018262).  Saving model ...\n",
            "Epoch: 32 \tTraining Loss: 2.279748 \tValidation Loss: 0.018231 \tValidation average accuracy: 29.333540\n",
            "Validation loss decreased (0.018262 --> 0.018231).  Saving model ...\n",
            "Epoch: 33 \tTraining Loss: 2.273597 \tValidation Loss: 0.018161 \tValidation average accuracy: 29.673665\n",
            "Validation loss decreased (0.018231 --> 0.018161).  Saving model ...\n",
            "Epoch: 34 \tTraining Loss: 2.263886 \tValidation Loss: 0.018032 \tValidation average accuracy: 29.880921\n",
            "Validation loss decreased (0.018161 --> 0.018032).  Saving model ...\n",
            "Epoch: 35 \tTraining Loss: 2.246877 \tValidation Loss: 0.017934 \tValidation average accuracy: 29.905811\n",
            "Validation loss decreased (0.018032 --> 0.017934).  Saving model ...\n",
            "Epoch: 36 \tTraining Loss: 2.212360 \tValidation Loss: 0.017419 \tValidation average accuracy: 29.761162\n",
            "Validation loss decreased (0.017934 --> 0.017419).  Saving model ...\n",
            "Epoch: 37 \tTraining Loss: 2.127945 \tValidation Loss: 0.016528 \tValidation average accuracy: 29.560687\n",
            "Validation loss decreased (0.017419 --> 0.016528).  Saving model ...\n",
            "Epoch: 38 \tTraining Loss: 1.931542 \tValidation Loss: 0.014048 \tValidation average accuracy: 29.284310\n",
            "Validation loss decreased (0.016528 --> 0.014048).  Saving model ...\n",
            "Epoch: 39 \tTraining Loss: 1.755974 \tValidation Loss: 0.013364 \tValidation average accuracy: 29.094325\n",
            "Validation loss decreased (0.014048 --> 0.013364).  Saving model ...\n",
            "Epoch: 40 \tTraining Loss: 1.698120 \tValidation Loss: 0.013709 \tValidation average accuracy: 29.083523\n",
            "Epoch: 41 \tTraining Loss: 1.671789 \tValidation Loss: 0.013290 \tValidation average accuracy: 28.911308\n",
            "Validation loss decreased (0.013364 --> 0.013290).  Saving model ...\n",
            "Epoch: 42 \tTraining Loss: 1.654645 \tValidation Loss: 0.013195 \tValidation average accuracy: 28.772141\n",
            "Validation loss decreased (0.013290 --> 0.013195).  Saving model ...\n",
            "Epoch: 43 \tTraining Loss: 1.640580 \tValidation Loss: 0.013675 \tValidation average accuracy: 28.677416\n",
            "Epoch: 44 \tTraining Loss: 1.625935 \tValidation Loss: 0.012766 \tValidation average accuracy: 28.598246\n",
            "Validation loss decreased (0.013195 --> 0.012766).  Saving model ...\n",
            "Epoch: 45 \tTraining Loss: 1.607891 \tValidation Loss: 0.012775 \tValidation average accuracy: 28.526004\n",
            "Epoch: 46 \tTraining Loss: 1.582235 \tValidation Loss: 0.013067 \tValidation average accuracy: 28.509547\n",
            "Epoch: 47 \tTraining Loss: 1.542163 \tValidation Loss: 0.012127 \tValidation average accuracy: 28.607724\n",
            "Validation loss decreased (0.012766 --> 0.012127).  Saving model ...\n",
            "Epoch: 48 \tTraining Loss: 1.479518 \tValidation Loss: 0.011863 \tValidation average accuracy: 28.771657\n",
            "Validation loss decreased (0.012127 --> 0.011863).  Saving model ...\n",
            "Epoch: 49 \tTraining Loss: 1.398948 \tValidation Loss: 0.010402 \tValidation average accuracy: 29.102944\n",
            "Validation loss decreased (0.011863 --> 0.010402).  Saving model ...\n",
            "Epoch: 50 \tTraining Loss: 1.323663 \tValidation Loss: 0.010472 \tValidation average accuracy: 29.502347\n",
            "CPU times: user 4min 16s, sys: 1min, total: 5min 16s\n",
            "Wall time: 9min 46s\n"
          ]
        }
      ],
      "source": [
        "%%time\n",
        "overfitted_model = OverfittingNeuralNetwork().to(device)\n",
        "opt = torch.optim.SGD(overfitted_model.parameters(),lr = 0.001)\n",
        "loss_func = nn.NLLLoss()\n",
        "\n",
        "n_epochs = 50\n",
        "valid_loss_min = np.Inf  \n",
        "\n",
        "train_losses = []\n",
        "valid_losses = []\n",
        "\n",
        "val_accs = []\n",
        "\n",
        "for epoch in range(n_epochs):\n",
        "    train_loss = 0\n",
        "    valid_loss = 0\n",
        "    \n",
        "    # To compute then validation accuracy\n",
        "    val_class_correct = list(0. for i in range(10))\n",
        "    val_class_total = list(0. for i in range(10))\n",
        "\n",
        "    ###################\n",
        "    # train the model #\n",
        "    ###################\n",
        "    overfitted_model.train()\n",
        "    for data,label in overfitted_train_loader:\n",
        "        opt.zero_grad()\n",
        "        \n",
        "        # Forward\n",
        "        output = overfitted_model(data.to(device))\n",
        "        loss = loss_func(output,label.to(device))\n",
        "        \n",
        "        # Backward\n",
        "        loss.backward()\n",
        "        opt.step()\n",
        "        \n",
        "        # update running training loss\n",
        "        train_loss += loss.item() * data.size(0)\n",
        "        \n",
        "        \n",
        "    ######################    \n",
        "    # validate the model #\n",
        "    ######################\n",
        "    overfitted_model.eval()\n",
        "    for data,label in valid_loader:\n",
        "        # Forward\n",
        "        output = overfitted_model(data.to(device))\n",
        "        loss = loss_func(output,label.to(device))\n",
        "        \n",
        "        valid_loss = loss.item() * data.size(0)\n",
        "        \n",
        "        # Convert output probabilities to predicted class\n",
        "        pred = torch.argmax(output, dim=1)\n",
        "        # Compare predictions to true label\n",
        "        correct = np.squeeze(pred.eq(label.to(device).data.view_as(pred)))\n",
        "    \n",
        "        # Calculate test accuracy for each object class\n",
        "        for i in range(len(target)):\n",
        "            label = target.data[i]\n",
        "            class_correct[label] += correct[i].item()\n",
        "            class_total[label] += 1\n",
        "\n",
        "    # Print training/validation statistics \n",
        "    # Calculate average loss over an epoch\n",
        "    train_loss = train_loss / len(train_loader.sampler)\n",
        "    valid_loss = valid_loss / len(valid_loader.sampler)\n",
        "    \n",
        "    train_losses.append(train_loss)\n",
        "    valid_losses.append(valid_loss)\n",
        "    \n",
        "    val_avrg_acc = 100. * np.sum(class_correct) / np.sum(class_total)\n",
        "    val_accs.append(val_avrg_acc)\n",
        "\n",
        "    print('Epoch: {} \\tTraining Loss: {:.6f} \\tValidation Loss: {:.6f} \\tValidation average accuracy: {:.6f}'.format(\n",
        "        epoch+1, \n",
        "        train_loss,\n",
        "        valid_loss, \n",
        "        val_avrg_acc\n",
        "        ))\n",
        "    \n",
        "    # Save model if validation loss has decreased\n",
        "    if valid_loss <= valid_loss_min:\n",
        "        print('Validation loss decreased ({:.6f} --> {:.6f}).  Saving model ...'.format(\n",
        "        valid_loss_min,\n",
        "        valid_loss))\n",
        "        torch.save(overfitted_model.state_dict(), 'overfitted_model.pt')\n",
        "        valid_loss_min = valid_loss"
      ]
    },
    {
      "cell_type": "code",
      "execution_count": 41,
      "metadata": {
        "colab": {
          "base_uri": "https://localhost:8080/",
          "height": 427
        },
        "id": "G9b6ddjL11Th",
        "outputId": "1e203c9d-7c3d-4f67-c1cf-93477595d173"
      },
      "outputs": [
        {
          "output_type": "execute_result",
          "data": {
            "text/plain": [
              "Text(0.5, 1.0, 'Learning score')"
            ]
          },
          "metadata": {},
          "execution_count": 41
        },
        {
          "output_type": "display_data",
          "data": {
            "image/png": "[encoded data removed]",
            "text/plain": [
              "<Figure size 1008x432 with 2 Axes>"
            ]
          },
          "metadata": {}
        }
      ],
      "source": [
        "import seaborn as sns\n",
        "sns.set()\n",
        "\n",
        "plt.figure(figsize=(14, 6))\n",
        "plt.subplot(1, 2, 1)\n",
        "plt.plot(train_losses, c=\"green\", label=\"train\")\n",
        "plt.plot(valid_losses, c=\"red\", label=\"validation\")\n",
        "plt.xlabel(\"Epoch\")\n",
        "plt.ylabel(\"Loss\")\n",
        "plt.legend()\n",
        "plt.title(\"Learning score\")\n",
        "\n",
        "plt.subplot(1, 2, 2)\n",
        "plt.plot(val_accs, c=\"purple\", label=\"validation accuracy\")\n",
        "plt.xlabel(\"Epoch\")\n",
        "plt.ylabel(\"Accuracy\")\n",
        "plt.legend()\n",
        "plt.title(\"Learning score\")"
      ]
    },
    {
      "cell_type": "code",
      "execution_count": 37,
      "metadata": {
        "colab": {
          "base_uri": "https://localhost:8080/"
        },
        "id": "XSXc0tfo11Tj",
        "outputId": "94577887-aed1-4077-f0c9-1cd35f7ac1c1"
      },
      "outputs": [
        {
          "output_type": "execute_result",
          "data": {
            "text/plain": [
              "<All keys matched successfully>"
            ]
          },
          "metadata": {},
          "execution_count": 37
        }
      ],
      "source": [
        "overfitted_model.load_state_dict(torch.load('overfitted_model.pt'))"
      ]
    },
    {
      "cell_type": "code",
      "execution_count": 38,
      "metadata": {
        "colab": {
          "base_uri": "https://localhost:8080/"
        },
        "id": "qi45shND11Tj",
        "outputId": "fe8df3fd-65f2-4724-8c36-27f5d226983f"
      },
      "outputs": [
        {
          "output_type": "stream",
          "name": "stderr",
          "text": [
            "/usr/local/lib/python3.7/dist-packages/torch/utils/data/dataloader.py:481: UserWarning: This DataLoader will create 10 worker processes in total. Our suggested max number of worker in current system is 2, which is smaller than what this DataLoader is going to create. Please be aware that excessive worker creation might get DataLoader running slow or even freeze, lower the worker number to avoid potential slowness/freeze if necessary.\n",
            "  cpuset_checked))\n",
            "/usr/local/lib/python3.7/dist-packages/torch/nn/modules/container.py:141: UserWarning: Implicit dimension choice for log_softmax has been deprecated. Change the call to include dim=X as an argument.\n",
            "  input = module(input)\n"
          ]
        },
        {
          "output_type": "stream",
          "name": "stdout",
          "text": [
            "Test Loss: 1.364035\n",
            "\n",
            "Test Accuracy of     0: 40% (403/1000)\n",
            "Test Accuracy of     1: 95% (957/1000)\n",
            "Test Accuracy of     2: 68% (689/1000)\n",
            "Test Accuracy of     3:  0% ( 9/1000)\n",
            "Test Accuracy of     4: 18% (186/1000)\n",
            "Test Accuracy of     5:  4% (45/1000)\n",
            "Test Accuracy of     6:  0% ( 5/1000)\n",
            "Test Accuracy of     7: 50% (507/1000)\n",
            "Test Accuracy of     8: 82% (827/1000)\n",
            "Test Accuracy of     9: 95% (950/1000)\n",
            "\n",
            "Test Accuracy (Overall): 45% (4578/10000)\n"
          ]
        }
      ],
      "source": [
        "##################    \n",
        "# test the model #\n",
        "##################\n",
        "\n",
        "# initialize lists to monitor test loss and accuracy\n",
        "test_loss = 0.0\n",
        "class_correct = list(0. for i in range(10))\n",
        "class_total = list(0. for i in range(10))\n",
        "overfitted_model.eval() # prep model for evaluation\n",
        "for data, target in test_loader:\n",
        "    # Forward\n",
        "    output = overfitted_model(data.to(device))\n",
        "    loss = loss_func(output, target.to(device))\n",
        "    \n",
        "    test_loss += loss.item()*data.size(0)\n",
        "    \n",
        "    # Convert output probabilities to predicted class\n",
        "    _, pred = torch.max(output, 1)\n",
        "    # compare predictions to true label\n",
        "    correct = np.squeeze(pred.eq(target.to(device).data.view_as(pred)))\n",
        "    \n",
        "    # Calculate test accuracy for each object class\n",
        "    for i in range(len(target)):\n",
        "        label = target.data[i]\n",
        "        class_correct[label] += correct[i].item()\n",
        "        class_total[label] += 1\n",
        "        \n",
        "# Calculate and print avg test loss\n",
        "test_loss = test_loss/len(test_loader.sampler)\n",
        "print('Test Loss: {:.6f}\\n'.format(test_loss))\n",
        "for i in range(10):\n",
        "    if class_total[i] > 0:\n",
        "        print('Test Accuracy of %5s: %2d%% (%2d/%2d)' % (\n",
        "            str(i), 100 * class_correct[i] / class_total[i],\n",
        "            np.sum(class_correct[i]), np.sum(class_total[i])))\n",
        "    else:\n",
        "        print('Test Accuracy of %5s: N/A (no training examples)' % (classes[i]))\n",
        "print('\\nTest Accuracy (Overall): %2d%% (%2d/%2d)' % (\n",
        "    100. * np.sum(class_correct) / np.sum(class_total),\n",
        "    np.sum(class_correct), np.sum(class_total)))"
      ]
    },
    {
      "cell_type": "markdown",
      "metadata": {
        "id": "Xg8OMUCp11Tj"
      },
      "source": [
        "### Task 3: Fix it.\n",
        "Fix the overfitted network from the previous step (at least partially) by using regularization techniques (Dropout/Batchnorm/...) and demonstrate the results. "
      ]
    },
    {
      "cell_type": "code",
      "execution_count": 46,
      "metadata": {
        "id": "YeNIMjsGO9sO"
      },
      "outputs": [],
      "source": [
        "class FixedNeuralNetwork(nn.Module):\n",
        "    def __init__(self, input_shape=28*28, num_classes=10, input_channels=1):\n",
        "        super(self.__class__, self).__init__()\n",
        "        self.model = nn.Sequential(\n",
        "            nn.Flatten(),\n",
        "            nn.Linear(input_shape, 1024),\n",
        "            nn.BatchNorm1d(1024),\n",
        "            nn.Tanh(),\n",
        "            nn.Dropout(0.2),\n",
        "            nn.Linear(1024, 1024),\n",
        "            nn.BatchNorm1d(1024),\n",
        "            nn.Tanh(),\n",
        "            nn.Dropout(0.2),\n",
        "            nn.Linear(1024, 1024),\n",
        "            nn.BatchNorm1d(1024),\n",
        "            nn.Tanh(),\n",
        "            nn.Dropout(0.2),\n",
        "            nn.Linear(1024, 1024),\n",
        "            nn.BatchNorm1d(1024),\n",
        "            nn.Tanh(),\n",
        "            nn.Dropout(0.2),\n",
        "            nn.Linear(1024, 1024),\n",
        "            nn.BatchNorm1d(1024),\n",
        "            nn.Tanh(),\n",
        "            nn.Dropout(0.2),\n",
        "            nn.Linear(1024, 1024),\n",
        "            nn.BatchNorm1d(1024),\n",
        "            nn.Tanh(),\n",
        "            nn.Dropout(0.2),\n",
        "            nn.Linear(1024, 1024),\n",
        "            nn.BatchNorm1d(1024),\n",
        "            nn.Tanh(),\n",
        "            nn.Dropout(0.2),\n",
        "            nn.Linear(1024, 1024),\n",
        "            nn.BatchNorm1d(1024),\n",
        "            nn.Tanh(),\n",
        "            nn.Dropout(0.2),\n",
        "            nn.Linear(1024, 1024),\n",
        "            nn.BatchNorm1d(1024),\n",
        "            nn.Tanh(),\n",
        "            nn.Dropout(0.2),\n",
        "            nn.Linear(1024, 1024),\n",
        "            nn.BatchNorm1d(1024),\n",
        "            nn.Tanh(),\n",
        "            nn.Dropout(0.2),\n",
        "            nn.Linear(1024, num_classes),\n",
        "            nn.LogSoftmax()\n",
        "        )\n",
        "        \n",
        "    def forward(self, inp):       \n",
        "        out = self.model(inp)\n",
        "        return out\n",
        "        \n",
        "    def forward(self, inp):       \n",
        "        out = self.model(inp)\n",
        "        return out"
      ]
    },
    {
      "cell_type": "code",
      "execution_count": 47,
      "metadata": {
        "colab": {
          "base_uri": "https://localhost:8080/"
        },
        "id": "hgDIfM_P11Tj",
        "outputId": "69598af4-d1a3-4602-eb58-37606a9687a3"
      },
      "outputs": [
        {
          "output_type": "stream",
          "name": "stdout",
          "text": [
            "----------------------------------------------------------------\n",
            "        Layer (type)               Output Shape         Param #\n",
            "================================================================\n",
            "           Flatten-1                  [-1, 784]               0\n",
            "            Linear-2                 [-1, 1024]         803,840\n",
            "       BatchNorm1d-3                 [-1, 1024]           2,048\n",
            "              Tanh-4                 [-1, 1024]               0\n",
            "           Dropout-5                 [-1, 1024]               0\n",
            "            Linear-6                 [-1, 1024]       1,049,600\n",
            "       BatchNorm1d-7                 [-1, 1024]           2,048\n",
            "              Tanh-8                 [-1, 1024]               0\n",
            "           Dropout-9                 [-1, 1024]               0\n",
            "           Linear-10                 [-1, 1024]       1,049,600\n",
            "      BatchNorm1d-11                 [-1, 1024]           2,048\n",
            "             Tanh-12                 [-1, 1024]               0\n",
            "          Dropout-13                 [-1, 1024]               0\n",
            "           Linear-14                 [-1, 1024]       1,049,600\n",
            "      BatchNorm1d-15                 [-1, 1024]           2,048\n",
            "             Tanh-16                 [-1, 1024]               0\n",
            "          Dropout-17                 [-1, 1024]               0\n",
            "           Linear-18                 [-1, 1024]       1,049,600\n",
            "      BatchNorm1d-19                 [-1, 1024]           2,048\n",
            "             Tanh-20                 [-1, 1024]               0\n",
            "          Dropout-21                 [-1, 1024]               0\n",
            "           Linear-22                 [-1, 1024]       1,049,600\n",
            "      BatchNorm1d-23                 [-1, 1024]           2,048\n",
            "             Tanh-24                 [-1, 1024]               0\n",
            "          Dropout-25                 [-1, 1024]               0\n",
            "           Linear-26                 [-1, 1024]       1,049,600\n",
            "      BatchNorm1d-27                 [-1, 1024]           2,048\n",
            "             Tanh-28                 [-1, 1024]               0\n",
            "          Dropout-29                 [-1, 1024]               0\n",
            "           Linear-30                 [-1, 1024]       1,049,600\n",
            "      BatchNorm1d-31                 [-1, 1024]           2,048\n",
            "             Tanh-32                 [-1, 1024]               0\n",
            "          Dropout-33                 [-1, 1024]               0\n",
            "           Linear-34                 [-1, 1024]       1,049,600\n",
            "      BatchNorm1d-35                 [-1, 1024]           2,048\n",
            "             Tanh-36                 [-1, 1024]               0\n",
            "          Dropout-37                 [-1, 1024]               0\n",
            "           Linear-38                 [-1, 1024]       1,049,600\n",
            "      BatchNorm1d-39                 [-1, 1024]           2,048\n",
            "             Tanh-40                 [-1, 1024]               0\n",
            "          Dropout-41                 [-1, 1024]               0\n",
            "           Linear-42                   [-1, 10]          10,250\n",
            "       LogSoftmax-43                   [-1, 10]               0\n",
            "================================================================\n",
            "Total params: 10,280,970\n",
            "Trainable params: 10,280,970\n",
            "Non-trainable params: 0\n",
            "----------------------------------------------------------------\n",
            "Input size (MB): 0.00\n",
            "Forward/backward pass size (MB): 0.32\n",
            "Params size (MB): 39.22\n",
            "Estimated Total Size (MB): 39.54\n",
            "----------------------------------------------------------------\n"
          ]
        },
        {
          "output_type": "stream",
          "name": "stderr",
          "text": [
            "/usr/local/lib/python3.7/dist-packages/torch/nn/modules/container.py:141: UserWarning: Implicit dimension choice for log_softmax has been deprecated. Change the call to include dim=X as an argument.\n",
            "  input = module(input)\n"
          ]
        }
      ],
      "source": [
        "torchsummary.summary(FixedNeuralNetwork().to(device), (28*28,))"
      ]
    },
    {
      "cell_type": "code",
      "execution_count": 49,
      "metadata": {
        "colab": {
          "base_uri": "https://localhost:8080/"
        },
        "outputId": "c40f7d2c-90ba-4e57-b056-c566cfa21276",
        "id": "fhbw9IubQBYg"
      },
      "outputs": [
        {
          "output_type": "stream",
          "name": "stderr",
          "text": [
            "/usr/local/lib/python3.7/dist-packages/torch/utils/data/dataloader.py:481: UserWarning: This DataLoader will create 10 worker processes in total. Our suggested max number of worker in current system is 2, which is smaller than what this DataLoader is going to create. Please be aware that excessive worker creation might get DataLoader running slow or even freeze, lower the worker number to avoid potential slowness/freeze if necessary.\n",
            "  cpuset_checked))\n",
            "/usr/local/lib/python3.7/dist-packages/torch/nn/modules/container.py:141: UserWarning: Implicit dimension choice for log_softmax has been deprecated. Change the call to include dim=X as an argument.\n",
            "  input = module(input)\n"
          ]
        },
        {
          "output_type": "stream",
          "name": "stdout",
          "text": [
            "Epoch: 1 \tTraining Loss: 1.438932 \tValidation Loss: 0.005632\n",
            "Validation loss decreased (inf --> 0.005632).  Saving model ...\n",
            "Epoch: 2 \tTraining Loss: 0.831934 \tValidation Loss: 0.005660\n",
            "Epoch: 3 \tTraining Loss: 0.692067 \tValidation Loss: 0.005968\n",
            "Epoch: 4 \tTraining Loss: 0.628057 \tValidation Loss: 0.004815\n",
            "Validation loss decreased (0.005632 --> 0.004815).  Saving model ...\n",
            "Epoch: 5 \tTraining Loss: 0.590155 \tValidation Loss: 0.005880\n",
            "Epoch: 6 \tTraining Loss: 0.559933 \tValidation Loss: 0.003315\n",
            "Validation loss decreased (0.004815 --> 0.003315).  Saving model ...\n",
            "Epoch: 7 \tTraining Loss: 0.539285 \tValidation Loss: 0.003336\n",
            "Epoch: 8 \tTraining Loss: 0.525189 \tValidation Loss: 0.002642\n",
            "Validation loss decreased (0.003315 --> 0.002642).  Saving model ...\n",
            "Epoch: 9 \tTraining Loss: 0.511967 \tValidation Loss: 0.003472\n",
            "Epoch: 10 \tTraining Loss: 0.497003 \tValidation Loss: 0.002615\n",
            "Validation loss decreased (0.002642 --> 0.002615).  Saving model ...\n",
            "Epoch: 11 \tTraining Loss: 0.490518 \tValidation Loss: 0.003603\n",
            "Epoch: 12 \tTraining Loss: 0.482069 \tValidation Loss: 0.002104\n",
            "Validation loss decreased (0.002615 --> 0.002104).  Saving model ...\n",
            "Epoch: 13 \tTraining Loss: 0.473898 \tValidation Loss: 0.003554\n",
            "Epoch: 14 \tTraining Loss: 0.467119 \tValidation Loss: 0.003356\n",
            "Epoch: 15 \tTraining Loss: 0.455764 \tValidation Loss: 0.002892\n",
            "Epoch: 16 \tTraining Loss: 0.458248 \tValidation Loss: 0.004075\n",
            "Epoch: 17 \tTraining Loss: 0.452019 \tValidation Loss: 0.003565\n",
            "Epoch: 18 \tTraining Loss: 0.445339 \tValidation Loss: 0.002294\n",
            "Epoch: 19 \tTraining Loss: 0.442454 \tValidation Loss: 0.002827\n",
            "Epoch: 20 \tTraining Loss: 0.435977 \tValidation Loss: 0.002774\n",
            "Epoch: 21 \tTraining Loss: 0.428786 \tValidation Loss: 0.004152\n",
            "Epoch: 22 \tTraining Loss: 0.426556 \tValidation Loss: 0.003506\n",
            "Epoch: 23 \tTraining Loss: 0.423879 \tValidation Loss: 0.002343\n",
            "Epoch: 24 \tTraining Loss: 0.420149 \tValidation Loss: 0.002929\n",
            "Epoch: 25 \tTraining Loss: 0.417937 \tValidation Loss: 0.003215\n",
            "Epoch: 26 \tTraining Loss: 0.413679 \tValidation Loss: 0.001915\n",
            "Validation loss decreased (0.002104 --> 0.001915).  Saving model ...\n",
            "Epoch: 27 \tTraining Loss: 0.410407 \tValidation Loss: 0.003845\n",
            "Epoch: 28 \tTraining Loss: 0.406366 \tValidation Loss: 0.003996\n",
            "Epoch: 29 \tTraining Loss: 0.406140 \tValidation Loss: 0.004010\n",
            "Epoch: 30 \tTraining Loss: 0.399215 \tValidation Loss: 0.002867\n",
            "Epoch: 31 \tTraining Loss: 0.397974 \tValidation Loss: 0.002312\n",
            "Epoch: 32 \tTraining Loss: 0.399390 \tValidation Loss: 0.003083\n",
            "Epoch: 33 \tTraining Loss: 0.397030 \tValidation Loss: 0.004620\n",
            "Epoch: 34 \tTraining Loss: 0.391367 \tValidation Loss: 0.003094\n",
            "Epoch: 35 \tTraining Loss: 0.387418 \tValidation Loss: 0.003443\n",
            "Epoch: 36 \tTraining Loss: 0.388778 \tValidation Loss: 0.002446\n",
            "Epoch: 37 \tTraining Loss: 0.385774 \tValidation Loss: 0.002524\n",
            "Epoch: 38 \tTraining Loss: 0.382029 \tValidation Loss: 0.005206\n",
            "Epoch: 39 \tTraining Loss: 0.381796 \tValidation Loss: 0.002415\n",
            "Epoch: 40 \tTraining Loss: 0.380929 \tValidation Loss: 0.002382\n",
            "Epoch: 41 \tTraining Loss: 0.375922 \tValidation Loss: 0.003779\n",
            "Epoch: 42 \tTraining Loss: 0.375258 \tValidation Loss: 0.001500\n",
            "Validation loss decreased (0.001915 --> 0.001500).  Saving model ...\n",
            "Epoch: 43 \tTraining Loss: 0.374211 \tValidation Loss: 0.002963\n",
            "Epoch: 44 \tTraining Loss: 0.370562 \tValidation Loss: 0.003553\n",
            "Epoch: 45 \tTraining Loss: 0.367397 \tValidation Loss: 0.004185\n",
            "Epoch: 46 \tTraining Loss: 0.366397 \tValidation Loss: 0.001787\n",
            "Epoch: 47 \tTraining Loss: 0.365561 \tValidation Loss: 0.003538\n",
            "Epoch: 48 \tTraining Loss: 0.362103 \tValidation Loss: 0.001830\n",
            "Epoch: 49 \tTraining Loss: 0.361496 \tValidation Loss: 0.002334\n",
            "Epoch: 50 \tTraining Loss: 0.356600 \tValidation Loss: 0.003890\n",
            "CPU times: user 5min 24s, sys: 1min 1s, total: 6min 26s\n",
            "Wall time: 10min 31s\n"
          ]
        }
      ],
      "source": [
        "%%time\n",
        "fixed_model = FixedNeuralNetwork().to(device)\n",
        "opt = torch.optim.SGD(fixed_model.parameters(),lr = 0.001)\n",
        "loss_func = nn.NLLLoss()\n",
        "\n",
        "n_epochs = 50\n",
        "valid_loss_min = np.Inf  \n",
        "\n",
        "train_losses = []\n",
        "valid_losses = []\n",
        "\n",
        "for epoch in range(n_epochs):\n",
        "    train_loss = 0\n",
        "    valid_loss = 0\n",
        "    \n",
        "    ###################\n",
        "    # train the model #\n",
        "    ###################\n",
        "    fixed_model.train()\n",
        "    for data,label in train_loader:\n",
        "        opt.zero_grad()\n",
        "        \n",
        "        # Forward\n",
        "        output = fixed_model(data.to(device))\n",
        "        loss = loss_func(output,label.to(device))\n",
        "        \n",
        "        # Backward\n",
        "        loss.backward()\n",
        "        opt.step()\n",
        "        \n",
        "        # update running training loss\n",
        "        train_loss += loss.item() * data.size(0)\n",
        "        \n",
        "        \n",
        "    ######################    \n",
        "    # validate the model #\n",
        "    ######################\n",
        "    fixed_model.eval()\n",
        "    for data,label in valid_loader:\n",
        "        # Forward\n",
        "        output = fixed_model(data.to(device))\n",
        "        loss = loss_func(output,label.to(device))\n",
        "        \n",
        "        valid_loss = loss.item() * data.size(0)\n",
        "    \n",
        "    # Print training/validation statistics \n",
        "    # Calculate average loss over an epoch\n",
        "    train_loss = train_loss / len(train_loader.sampler)\n",
        "    valid_loss = valid_loss / len(valid_loader.sampler)\n",
        "    \n",
        "    train_losses.append(train_loss)\n",
        "    valid_losses.append(valid_loss)\n",
        "    \n",
        "    print('Epoch: {} \\tTraining Loss: {:.6f} \\tValidation Loss: {:.6f}'.format(\n",
        "        epoch+1, \n",
        "        train_loss,\n",
        "        valid_loss\n",
        "        ))\n",
        "    \n",
        "    # Save model if validation loss has decreased\n",
        "    if valid_loss <= valid_loss_min:\n",
        "        print('Validation loss decreased ({:.6f} --> {:.6f}).  Saving model ...'.format(\n",
        "        valid_loss_min,\n",
        "        valid_loss))\n",
        "        torch.save(fixed_model.state_dict(), 'fixed_model.pt')\n",
        "        valid_loss_min = valid_loss"
      ]
    },
    {
      "cell_type": "code",
      "source": [
        "import seaborn as sns\n",
        "sns.set()\n",
        "\n",
        "plt.plot(train_losses, c=\"green\", label=\"train\")\n",
        "plt.plot(valid_losses, c=\"red\", label=\"validation\")\n",
        "plt.xlabel(\"Epoch\")\n",
        "plt.ylabel(\"Loss\")\n",
        "plt.legend()\n",
        "plt.title(\"Learning score\")"
      ],
      "metadata": {
        "colab": {
          "base_uri": "https://localhost:8080/",
          "height": 318
        },
        "id": "R6RC6nB8RB-s",
        "outputId": "7c9e962f-86e4-4a5b-d31a-153e7df5ceb1"
      },
      "execution_count": 50,
      "outputs": [
        {
          "output_type": "execute_result",
          "data": {
            "text/plain": [
              "Text(0.5, 1.0, 'Learning score')"
            ]
          },
          "metadata": {},
          "execution_count": 50
        },
        {
          "output_type": "display_data",
          "data": {
            "image/png": "[encoded data removed]",
            "text/plain": [
              "<Figure size 432x288 with 1 Axes>"
            ]
          },
          "metadata": {}
        }
      ]
    },
    {
      "cell_type": "code",
      "source": [
        "fixed_model.load_state_dict(torch.load('fixed_model.pt'))"
      ],
      "metadata": {
        "colab": {
          "base_uri": "https://localhost:8080/"
        },
        "id": "_-cTwsVjRPFC",
        "outputId": "7d63b176-919c-4d36-843e-ab0d58d39ee8"
      },
      "execution_count": 51,
      "outputs": [
        {
          "output_type": "execute_result",
          "data": {
            "text/plain": [
              "<All keys matched successfully>"
            ]
          },
          "metadata": {},
          "execution_count": 51
        }
      ]
    },
    {
      "cell_type": "code",
      "source": [
        "##################    \n",
        "# test the model #\n",
        "##################\n",
        "\n",
        "# initialize lists to monitor test loss and accuracy\n",
        "test_loss = 0.0\n",
        "class_correct = list(0. for i in range(10))\n",
        "class_total = list(0. for i in range(10))\n",
        "fixed_model.eval() # prep model for evaluation\n",
        "for data, target in test_loader:\n",
        "    # Forward\n",
        "    output = fixed_model(data.to(device))\n",
        "    loss = loss_func(output, target.to(device))\n",
        "    \n",
        "    test_loss += loss.item()*data.size(0)\n",
        "    \n",
        "    # Convert output probabilities to predicted class\n",
        "    _, pred = torch.max(output, 1)\n",
        "    # compare predictions to true label\n",
        "    correct = np.squeeze(pred.eq(target.to(device).data.view_as(pred)))\n",
        "    \n",
        "    # Calculate test accuracy for each object class\n",
        "    for i in range(len(target)):\n",
        "        label = target.data[i]\n",
        "        class_correct[label] += correct[i].item()\n",
        "        class_total[label] += 1\n",
        "        \n",
        "# Calculate and print avg test loss\n",
        "test_loss = test_loss/len(test_loader.sampler)\n",
        "print('Test Loss: {:.6f}\\n'.format(test_loss))\n",
        "for i in range(10):\n",
        "    if class_total[i] > 0:\n",
        "        print('Test Accuracy of %5s: %2d%% (%2d/%2d)' % (\n",
        "            str(i), 100 * class_correct[i] / class_total[i],\n",
        "            np.sum(class_correct[i]), np.sum(class_total[i])))\n",
        "    else:\n",
        "        print('Test Accuracy of %5s: N/A (no training examples)' % (classes[i]))\n",
        "print('\\nTest Accuracy (Overall): %2d%% (%2d/%2d)' % (\n",
        "    100. * np.sum(class_correct) / np.sum(class_total),\n",
        "    np.sum(class_correct), np.sum(class_total)))"
      ],
      "metadata": {
        "colab": {
          "base_uri": "https://localhost:8080/"
        },
        "id": "L1lPvItiRbgC",
        "outputId": "8c46498b-a314-4c86-a8a4-6a37e61901cd"
      },
      "execution_count": 52,
      "outputs": [
        {
          "output_type": "stream",
          "name": "stderr",
          "text": [
            "/usr/local/lib/python3.7/dist-packages/torch/utils/data/dataloader.py:481: UserWarning: This DataLoader will create 10 worker processes in total. Our suggested max number of worker in current system is 2, which is smaller than what this DataLoader is going to create. Please be aware that excessive worker creation might get DataLoader running slow or even freeze, lower the worker number to avoid potential slowness/freeze if necessary.\n",
            "  cpuset_checked))\n",
            "/usr/local/lib/python3.7/dist-packages/torch/nn/modules/container.py:141: UserWarning: Implicit dimension choice for log_softmax has been deprecated. Change the call to include dim=X as an argument.\n",
            "  input = module(input)\n"
          ]
        },
        {
          "output_type": "stream",
          "name": "stdout",
          "text": [
            "Test Loss: 0.414761\n",
            "\n",
            "Test Accuracy of     0: 82% (822/1000)\n",
            "Test Accuracy of     1: 95% (957/1000)\n",
            "Test Accuracy of     2: 76% (764/1000)\n",
            "Test Accuracy of     3: 88% (880/1000)\n",
            "Test Accuracy of     4: 78% (788/1000)\n",
            "Test Accuracy of     5: 92% (921/1000)\n",
            "Test Accuracy of     6: 65% (650/1000)\n",
            "Test Accuracy of     7: 94% (945/1000)\n",
            "Test Accuracy of     8: 96% (969/1000)\n",
            "Test Accuracy of     9: 95% (951/1000)\n",
            "\n",
            "Test Accuracy (Overall): 86% (8647/10000)\n"
          ]
        }
      ]
    },
    {
      "cell_type": "markdown",
      "metadata": {
        "id": "dMui_uLJ7G0d"
      },
      "source": [
        "### Conclusions:\n",
        "_Write down small report with your conclusions and your ideas._"
      ]
    },
    {
      "cell_type": "markdown",
      "source": [
        "Скажу честно у меня не получилось нормально переобучить сеть, хотя я перепробовал много разных способов, а именно:\n",
        "1. уменьшал размер выборки\n",
        "2. поиграл с количеством скрытых слоев и их размерами\n",
        "3. пробовал разные функции активации (ReLU, LeakyReLU, Tanh)\n",
        "4. использовал разные оптимизаторы(Adam, SGD)\n",
        "\n",
        "Поэтому я был бы очень признателен, если бы Вы сказали, что я делаю не так. \n",
        "\n",
        "P.S.: Если можете посоветовать какие-нибудь полезные статьи или литературу на эту тему, то еще раз буду признателен."
      ],
      "metadata": {
        "id": "NjZDrDYRdLNV"
      }
    }
  ],
  "metadata": {
    "accelerator": "GPU",
    "colab": {
      "collapsed_sections": [],
      "name": "Lab2_DL_part2_overfitting.ipynb",
      "provenance": []
    },
    "kernelspec": {
      "display_name": "Python 3",
      "language": "python",
      "name": "python3"
    },
    "language_info": {
      "codemirror_mode": {
        "name": "ipython",
        "version": 3
      },
      "file_extension": ".py",
      "mimetype": "text/x-python",
      "name": "python",
      "nbconvert_exporter": "python",
      "pygments_lexer": "ipython3",
      "version": "3.8.8"
    }
  },
  "nbformat": 4,
  "nbformat_minor": 0
}