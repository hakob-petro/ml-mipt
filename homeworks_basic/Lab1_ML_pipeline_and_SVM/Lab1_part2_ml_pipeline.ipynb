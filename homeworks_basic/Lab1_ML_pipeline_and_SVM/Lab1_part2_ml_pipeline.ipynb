{
 "cells": [
  {
   "cell_type": "markdown",
   "metadata": {
    "nbgrader": {
     "grade": false,
     "grade_id": "cell-86e0de040aac317a",
     "locked": true,
     "schema_version": 2,
     "solution": false
    }
   },
   "source": [
    "# Lab assignment №1, part 2\n",
    "\n",
    "This lab assignment consists of several parts. You are supposed to make some transformations, train some models, estimate the quality of the models and explain your results.\n",
    "\n",
    "Several comments:\n",
    "* Don't hesitate to ask questions, it's a good practice.\n",
    "* No private/public sharing, please. The copied assignments will be graded with 0 points.\n",
    "* Blocks of this lab will be graded separately."
   ]
  },
  {
   "cell_type": "markdown",
   "metadata": {},
   "source": [
    "__*This is the second part of the assignment. First and third parts are waiting for you in the same directory.*__"
   ]
  },
  {
   "cell_type": "markdown",
   "metadata": {
    "nbgrader": {
     "grade": false,
     "grade_id": "cell-512ba712fc0fc065",
     "locked": true,
     "schema_version": 2,
     "solution": false
    }
   },
   "source": [
    "## Part 2. Data preprocessing, model training and evaluation."
   ]
  },
  {
   "cell_type": "markdown",
   "metadata": {
    "nbgrader": {
     "grade": false,
     "grade_id": "cell-b656a4266174b009",
     "locked": true,
     "schema_version": 2,
     "solution": false
    }
   },
   "source": [
    "### 1. Reading the data\n",
    "Today we work with the [dataset](https://archive.ics.uci.edu/ml/datasets/Statlog+%28Vehicle+Silhouettes%29), describing different cars for multiclass ($k=4$) classification problem. The data is available below."
   ]
  },
  {
   "cell_type": "code",
   "execution_count": 1,
   "metadata": {},
   "outputs": [],
   "source": [
    "# If on colab, uncomment the following lines\n",
    "\n",
    "# ! wget https://raw.githubusercontent.com/girafe-ai/ml-mipt/21f_basic/homeworks_basic/Lab1_ML_pipeline_and_SVM/car_data.csv"
   ]
  },
  {
   "cell_type": "code",
   "execution_count": 146,
   "metadata": {
    "nbgrader": {
     "grade": false,
     "grade_id": "cell-eebac6bfdf73d0bc",
     "locked": true,
     "schema_version": 2,
     "solution": false
    }
   },
   "outputs": [
    {
     "name": "stdout",
     "output_type": "stream",
     "text": [
      "(846, 19) (846,)\n",
      "(549, 19) (549,) (297, 19) (297,)\n"
     ]
    }
   ],
   "source": [
    "import pandas as pd\n",
    "import numpy as np\n",
    "from sklearn.model_selection import train_test_split\n",
    "\n",
    "dataset = pd.read_csv('car_data.csv', delimiter=',', header=None).values\n",
    "data = dataset[:, :-1].astype(int)\n",
    "target = dataset[:, -1]\n",
    "\n",
    "print(data.shape, target.shape)\n",
    "\n",
    "X_train, X_test, y_train, y_test = train_test_split(data, target, test_size=0.35)\n",
    "print(X_train.shape, y_train.shape, X_test.shape, y_test.shape)"
   ]
  },
  {
   "cell_type": "markdown",
   "metadata": {
    "nbgrader": {
     "grade": false,
     "grade_id": "cell-88b1a0f688568f2c",
     "locked": true,
     "schema_version": 2,
     "solution": false
    }
   },
   "source": [
    "To get some insights about the dataset, `pandas` might be used. The `train` part is transformed to `pd.DataFrame` below."
   ]
  },
  {
   "cell_type": "code",
   "execution_count": 147,
   "metadata": {},
   "outputs": [
    {
     "data": {
      "text/html": [
       "<div>\n",
       "<style scoped>\n",
       "    .dataframe tbody tr th:only-of-type {\n",
       "        vertical-align: middle;\n",
       "    }\n",
       "\n",
       "    .dataframe tbody tr th {\n",
       "        vertical-align: top;\n",
       "    }\n",
       "\n",
       "    .dataframe thead th {\n",
       "        text-align: right;\n",
       "    }\n",
       "</style>\n",
       "<table border=\"1\" class=\"dataframe\">\n",
       "  <thead>\n",
       "    <tr style=\"text-align: right;\">\n",
       "      <th></th>\n",
       "      <th>0</th>\n",
       "      <th>1</th>\n",
       "      <th>2</th>\n",
       "      <th>3</th>\n",
       "      <th>4</th>\n",
       "      <th>5</th>\n",
       "      <th>6</th>\n",
       "      <th>7</th>\n",
       "      <th>8</th>\n",
       "      <th>9</th>\n",
       "      <th>10</th>\n",
       "      <th>11</th>\n",
       "      <th>12</th>\n",
       "      <th>13</th>\n",
       "      <th>14</th>\n",
       "      <th>15</th>\n",
       "      <th>16</th>\n",
       "      <th>17</th>\n",
       "      <th>18</th>\n",
       "    </tr>\n",
       "  </thead>\n",
       "  <tbody>\n",
       "    <tr>\n",
       "      <th>0</th>\n",
       "      <td>181</td>\n",
       "      <td>78</td>\n",
       "      <td>36</td>\n",
       "      <td>60</td>\n",
       "      <td>116</td>\n",
       "      <td>56</td>\n",
       "      <td>6</td>\n",
       "      <td>123</td>\n",
       "      <td>55</td>\n",
       "      <td>17</td>\n",
       "      <td>124</td>\n",
       "      <td>141</td>\n",
       "      <td>221</td>\n",
       "      <td>121</td>\n",
       "      <td>78</td>\n",
       "      <td>3</td>\n",
       "      <td>16</td>\n",
       "      <td>178</td>\n",
       "      <td>185</td>\n",
       "    </tr>\n",
       "    <tr>\n",
       "      <th>1</th>\n",
       "      <td>15</td>\n",
       "      <td>96</td>\n",
       "      <td>55</td>\n",
       "      <td>103</td>\n",
       "      <td>201</td>\n",
       "      <td>65</td>\n",
       "      <td>9</td>\n",
       "      <td>204</td>\n",
       "      <td>32</td>\n",
       "      <td>23</td>\n",
       "      <td>166</td>\n",
       "      <td>227</td>\n",
       "      <td>624</td>\n",
       "      <td>246</td>\n",
       "      <td>74</td>\n",
       "      <td>6</td>\n",
       "      <td>2</td>\n",
       "      <td>186</td>\n",
       "      <td>194</td>\n",
       "    </tr>\n",
       "    <tr>\n",
       "      <th>2</th>\n",
       "      <td>424</td>\n",
       "      <td>91</td>\n",
       "      <td>41</td>\n",
       "      <td>93</td>\n",
       "      <td>197</td>\n",
       "      <td>65</td>\n",
       "      <td>9</td>\n",
       "      <td>183</td>\n",
       "      <td>36</td>\n",
       "      <td>21</td>\n",
       "      <td>137</td>\n",
       "      <td>202</td>\n",
       "      <td>504</td>\n",
       "      <td>153</td>\n",
       "      <td>66</td>\n",
       "      <td>11</td>\n",
       "      <td>24</td>\n",
       "      <td>193</td>\n",
       "      <td>200</td>\n",
       "    </tr>\n",
       "    <tr>\n",
       "      <th>3</th>\n",
       "      <td>530</td>\n",
       "      <td>88</td>\n",
       "      <td>48</td>\n",
       "      <td>90</td>\n",
       "      <td>178</td>\n",
       "      <td>60</td>\n",
       "      <td>8</td>\n",
       "      <td>175</td>\n",
       "      <td>38</td>\n",
       "      <td>21</td>\n",
       "      <td>152</td>\n",
       "      <td>200</td>\n",
       "      <td>460</td>\n",
       "      <td>198</td>\n",
       "      <td>68</td>\n",
       "      <td>13</td>\n",
       "      <td>16</td>\n",
       "      <td>192</td>\n",
       "      <td>199</td>\n",
       "    </tr>\n",
       "    <tr>\n",
       "      <th>4</th>\n",
       "      <td>477</td>\n",
       "      <td>89</td>\n",
       "      <td>46</td>\n",
       "      <td>78</td>\n",
       "      <td>150</td>\n",
       "      <td>63</td>\n",
       "      <td>11</td>\n",
       "      <td>160</td>\n",
       "      <td>43</td>\n",
       "      <td>20</td>\n",
       "      <td>160</td>\n",
       "      <td>170</td>\n",
       "      <td>367</td>\n",
       "      <td>176</td>\n",
       "      <td>73</td>\n",
       "      <td>5</td>\n",
       "      <td>9</td>\n",
       "      <td>185</td>\n",
       "      <td>194</td>\n",
       "    </tr>\n",
       "    <tr>\n",
       "      <th>5</th>\n",
       "      <td>429</td>\n",
       "      <td>84</td>\n",
       "      <td>37</td>\n",
       "      <td>70</td>\n",
       "      <td>145</td>\n",
       "      <td>62</td>\n",
       "      <td>9</td>\n",
       "      <td>136</td>\n",
       "      <td>48</td>\n",
       "      <td>18</td>\n",
       "      <td>134</td>\n",
       "      <td>159</td>\n",
       "      <td>280</td>\n",
       "      <td>140</td>\n",
       "      <td>68</td>\n",
       "      <td>11</td>\n",
       "      <td>9</td>\n",
       "      <td>194</td>\n",
       "      <td>202</td>\n",
       "    </tr>\n",
       "    <tr>\n",
       "      <th>6</th>\n",
       "      <td>317</td>\n",
       "      <td>95</td>\n",
       "      <td>45</td>\n",
       "      <td>105</td>\n",
       "      <td>208</td>\n",
       "      <td>64</td>\n",
       "      <td>10</td>\n",
       "      <td>187</td>\n",
       "      <td>36</td>\n",
       "      <td>22</td>\n",
       "      <td>150</td>\n",
       "      <td>202</td>\n",
       "      <td>520</td>\n",
       "      <td>158</td>\n",
       "      <td>64</td>\n",
       "      <td>7</td>\n",
       "      <td>32</td>\n",
       "      <td>198</td>\n",
       "      <td>211</td>\n",
       "    </tr>\n",
       "    <tr>\n",
       "      <th>7</th>\n",
       "      <td>443</td>\n",
       "      <td>99</td>\n",
       "      <td>50</td>\n",
       "      <td>88</td>\n",
       "      <td>204</td>\n",
       "      <td>64</td>\n",
       "      <td>10</td>\n",
       "      <td>185</td>\n",
       "      <td>35</td>\n",
       "      <td>22</td>\n",
       "      <td>159</td>\n",
       "      <td>209</td>\n",
       "      <td>517</td>\n",
       "      <td>193</td>\n",
       "      <td>66</td>\n",
       "      <td>12</td>\n",
       "      <td>11</td>\n",
       "      <td>194</td>\n",
       "      <td>201</td>\n",
       "    </tr>\n",
       "    <tr>\n",
       "      <th>8</th>\n",
       "      <td>556</td>\n",
       "      <td>108</td>\n",
       "      <td>56</td>\n",
       "      <td>102</td>\n",
       "      <td>246</td>\n",
       "      <td>75</td>\n",
       "      <td>6</td>\n",
       "      <td>239</td>\n",
       "      <td>28</td>\n",
       "      <td>26</td>\n",
       "      <td>167</td>\n",
       "      <td>264</td>\n",
       "      <td>855</td>\n",
       "      <td>228</td>\n",
       "      <td>82</td>\n",
       "      <td>9</td>\n",
       "      <td>13</td>\n",
       "      <td>186</td>\n",
       "      <td>185</td>\n",
       "    </tr>\n",
       "    <tr>\n",
       "      <th>9</th>\n",
       "      <td>438</td>\n",
       "      <td>91</td>\n",
       "      <td>49</td>\n",
       "      <td>86</td>\n",
       "      <td>195</td>\n",
       "      <td>63</td>\n",
       "      <td>8</td>\n",
       "      <td>177</td>\n",
       "      <td>37</td>\n",
       "      <td>21</td>\n",
       "      <td>156</td>\n",
       "      <td>203</td>\n",
       "      <td>473</td>\n",
       "      <td>201</td>\n",
       "      <td>67</td>\n",
       "      <td>7</td>\n",
       "      <td>5</td>\n",
       "      <td>192</td>\n",
       "      <td>198</td>\n",
       "    </tr>\n",
       "    <tr>\n",
       "      <th>10</th>\n",
       "      <td>737</td>\n",
       "      <td>105</td>\n",
       "      <td>51</td>\n",
       "      <td>93</td>\n",
       "      <td>160</td>\n",
       "      <td>51</td>\n",
       "      <td>7</td>\n",
       "      <td>217</td>\n",
       "      <td>30</td>\n",
       "      <td>24</td>\n",
       "      <td>165</td>\n",
       "      <td>240</td>\n",
       "      <td>703</td>\n",
       "      <td>208</td>\n",
       "      <td>81</td>\n",
       "      <td>9</td>\n",
       "      <td>25</td>\n",
       "      <td>188</td>\n",
       "      <td>188</td>\n",
       "    </tr>\n",
       "    <tr>\n",
       "      <th>11</th>\n",
       "      <td>729</td>\n",
       "      <td>103</td>\n",
       "      <td>48</td>\n",
       "      <td>96</td>\n",
       "      <td>232</td>\n",
       "      <td>71</td>\n",
       "      <td>10</td>\n",
       "      <td>205</td>\n",
       "      <td>32</td>\n",
       "      <td>23</td>\n",
       "      <td>153</td>\n",
       "      <td>226</td>\n",
       "      <td>633</td>\n",
       "      <td>197</td>\n",
       "      <td>71</td>\n",
       "      <td>2</td>\n",
       "      <td>15</td>\n",
       "      <td>188</td>\n",
       "      <td>196</td>\n",
       "    </tr>\n",
       "    <tr>\n",
       "      <th>12</th>\n",
       "      <td>215</td>\n",
       "      <td>90</td>\n",
       "      <td>39</td>\n",
       "      <td>86</td>\n",
       "      <td>169</td>\n",
       "      <td>62</td>\n",
       "      <td>7</td>\n",
       "      <td>162</td>\n",
       "      <td>41</td>\n",
       "      <td>20</td>\n",
       "      <td>131</td>\n",
       "      <td>194</td>\n",
       "      <td>388</td>\n",
       "      <td>147</td>\n",
       "      <td>74</td>\n",
       "      <td>1</td>\n",
       "      <td>22</td>\n",
       "      <td>185</td>\n",
       "      <td>191</td>\n",
       "    </tr>\n",
       "    <tr>\n",
       "      <th>13</th>\n",
       "      <td>648</td>\n",
       "      <td>105</td>\n",
       "      <td>53</td>\n",
       "      <td>105</td>\n",
       "      <td>184</td>\n",
       "      <td>57</td>\n",
       "      <td>11</td>\n",
       "      <td>211</td>\n",
       "      <td>31</td>\n",
       "      <td>24</td>\n",
       "      <td>168</td>\n",
       "      <td>224</td>\n",
       "      <td>661</td>\n",
       "      <td>218</td>\n",
       "      <td>71</td>\n",
       "      <td>0</td>\n",
       "      <td>15</td>\n",
       "      <td>186</td>\n",
       "      <td>197</td>\n",
       "    </tr>\n",
       "    <tr>\n",
       "      <th>14</th>\n",
       "      <td>412</td>\n",
       "      <td>80</td>\n",
       "      <td>43</td>\n",
       "      <td>71</td>\n",
       "      <td>133</td>\n",
       "      <td>60</td>\n",
       "      <td>7</td>\n",
       "      <td>150</td>\n",
       "      <td>45</td>\n",
       "      <td>19</td>\n",
       "      <td>146</td>\n",
       "      <td>170</td>\n",
       "      <td>330</td>\n",
       "      <td>176</td>\n",
       "      <td>81</td>\n",
       "      <td>6</td>\n",
       "      <td>15</td>\n",
       "      <td>180</td>\n",
       "      <td>184</td>\n",
       "    </tr>\n",
       "  </tbody>\n",
       "</table>\n",
       "</div>"
      ],
      "text/plain": [
       "     0    1   2    3    4   5   6    7   8   9    10   11   12   13  14  15  \\\n",
       "0   181   78  36   60  116  56   6  123  55  17  124  141  221  121  78   3   \n",
       "1    15   96  55  103  201  65   9  204  32  23  166  227  624  246  74   6   \n",
       "2   424   91  41   93  197  65   9  183  36  21  137  202  504  153  66  11   \n",
       "3   530   88  48   90  178  60   8  175  38  21  152  200  460  198  68  13   \n",
       "4   477   89  46   78  150  63  11  160  43  20  160  170  367  176  73   5   \n",
       "5   429   84  37   70  145  62   9  136  48  18  134  159  280  140  68  11   \n",
       "6   317   95  45  105  208  64  10  187  36  22  150  202  520  158  64   7   \n",
       "7   443   99  50   88  204  64  10  185  35  22  159  209  517  193  66  12   \n",
       "8   556  108  56  102  246  75   6  239  28  26  167  264  855  228  82   9   \n",
       "9   438   91  49   86  195  63   8  177  37  21  156  203  473  201  67   7   \n",
       "10  737  105  51   93  160  51   7  217  30  24  165  240  703  208  81   9   \n",
       "11  729  103  48   96  232  71  10  205  32  23  153  226  633  197  71   2   \n",
       "12  215   90  39   86  169  62   7  162  41  20  131  194  388  147  74   1   \n",
       "13  648  105  53  105  184  57  11  211  31  24  168  224  661  218  71   0   \n",
       "14  412   80  43   71  133  60   7  150  45  19  146  170  330  176  81   6   \n",
       "\n",
       "    16   17   18  \n",
       "0   16  178  185  \n",
       "1    2  186  194  \n",
       "2   24  193  200  \n",
       "3   16  192  199  \n",
       "4    9  185  194  \n",
       "5    9  194  202  \n",
       "6   32  198  211  \n",
       "7   11  194  201  \n",
       "8   13  186  185  \n",
       "9    5  192  198  \n",
       "10  25  188  188  \n",
       "11  15  188  196  \n",
       "12  22  185  191  \n",
       "13  15  186  197  \n",
       "14  15  180  184  "
      ]
     },
     "execution_count": 147,
     "metadata": {},
     "output_type": "execute_result"
    }
   ],
   "source": [
    "X_train_pd = pd.DataFrame(X_train)\n",
    "\n",
    "# First 15 rows of our dataset.\n",
    "X_train_pd.head(15)"
   ]
  },
  {
   "cell_type": "markdown",
   "metadata": {
    "nbgrader": {
     "grade": false,
     "grade_id": "cell-98e7d91d77d65fcf",
     "locked": true,
     "schema_version": 2,
     "solution": false
    }
   },
   "source": [
    "Methods `describe` and `info` deliver some useful information."
   ]
  },
  {
   "cell_type": "code",
   "execution_count": 148,
   "metadata": {},
   "outputs": [
    {
     "data": {
      "text/html": [
       "<div>\n",
       "<style scoped>\n",
       "    .dataframe tbody tr th:only-of-type {\n",
       "        vertical-align: middle;\n",
       "    }\n",
       "\n",
       "    .dataframe tbody tr th {\n",
       "        vertical-align: top;\n",
       "    }\n",
       "\n",
       "    .dataframe thead th {\n",
       "        text-align: right;\n",
       "    }\n",
       "</style>\n",
       "<table border=\"1\" class=\"dataframe\">\n",
       "  <thead>\n",
       "    <tr style=\"text-align: right;\">\n",
       "      <th></th>\n",
       "      <th>0</th>\n",
       "      <th>1</th>\n",
       "      <th>2</th>\n",
       "      <th>3</th>\n",
       "      <th>4</th>\n",
       "      <th>5</th>\n",
       "      <th>6</th>\n",
       "      <th>7</th>\n",
       "      <th>8</th>\n",
       "      <th>9</th>\n",
       "      <th>10</th>\n",
       "      <th>11</th>\n",
       "      <th>12</th>\n",
       "      <th>13</th>\n",
       "      <th>14</th>\n",
       "      <th>15</th>\n",
       "      <th>16</th>\n",
       "      <th>17</th>\n",
       "      <th>18</th>\n",
       "    </tr>\n",
       "  </thead>\n",
       "  <tbody>\n",
       "    <tr>\n",
       "      <th>count</th>\n",
       "      <td>549.000000</td>\n",
       "      <td>549.000000</td>\n",
       "      <td>549.000000</td>\n",
       "      <td>549.000000</td>\n",
       "      <td>549.000000</td>\n",
       "      <td>549.000000</td>\n",
       "      <td>549.000000</td>\n",
       "      <td>549.000000</td>\n",
       "      <td>549.000000</td>\n",
       "      <td>549.000000</td>\n",
       "      <td>549.000000</td>\n",
       "      <td>549.000000</td>\n",
       "      <td>549.000000</td>\n",
       "      <td>549.000000</td>\n",
       "      <td>549.000000</td>\n",
       "      <td>549.000000</td>\n",
       "      <td>549.000000</td>\n",
       "      <td>549.000000</td>\n",
       "      <td>549.000000</td>\n",
       "    </tr>\n",
       "    <tr>\n",
       "      <th>mean</th>\n",
       "      <td>425.360656</td>\n",
       "      <td>93.998179</td>\n",
       "      <td>44.959927</td>\n",
       "      <td>82.331512</td>\n",
       "      <td>169.704918</td>\n",
       "      <td>61.735883</td>\n",
       "      <td>8.531876</td>\n",
       "      <td>169.469945</td>\n",
       "      <td>40.739526</td>\n",
       "      <td>20.624772</td>\n",
       "      <td>148.258652</td>\n",
       "      <td>188.996357</td>\n",
       "      <td>442.799636</td>\n",
       "      <td>174.978142</td>\n",
       "      <td>72.307832</td>\n",
       "      <td>6.380692</td>\n",
       "      <td>12.641166</td>\n",
       "      <td>189.080146</td>\n",
       "      <td>195.799636</td>\n",
       "    </tr>\n",
       "    <tr>\n",
       "      <th>std</th>\n",
       "      <td>238.056297</td>\n",
       "      <td>8.145461</td>\n",
       "      <td>6.240777</td>\n",
       "      <td>15.577313</td>\n",
       "      <td>33.829764</td>\n",
       "      <td>8.046705</td>\n",
       "      <td>4.308516</td>\n",
       "      <td>32.929441</td>\n",
       "      <td>7.730373</td>\n",
       "      <td>2.568302</td>\n",
       "      <td>14.730751</td>\n",
       "      <td>31.086822</td>\n",
       "      <td>174.611644</td>\n",
       "      <td>32.857349</td>\n",
       "      <td>7.261660</td>\n",
       "      <td>4.975751</td>\n",
       "      <td>8.948995</td>\n",
       "      <td>6.199611</td>\n",
       "      <td>7.398949</td>\n",
       "    </tr>\n",
       "    <tr>\n",
       "      <th>min</th>\n",
       "      <td>3.000000</td>\n",
       "      <td>76.000000</td>\n",
       "      <td>34.000000</td>\n",
       "      <td>44.000000</td>\n",
       "      <td>105.000000</td>\n",
       "      <td>47.000000</td>\n",
       "      <td>2.000000</td>\n",
       "      <td>114.000000</td>\n",
       "      <td>26.000000</td>\n",
       "      <td>17.000000</td>\n",
       "      <td>120.000000</td>\n",
       "      <td>134.000000</td>\n",
       "      <td>194.000000</td>\n",
       "      <td>112.000000</td>\n",
       "      <td>60.000000</td>\n",
       "      <td>0.000000</td>\n",
       "      <td>0.000000</td>\n",
       "      <td>176.000000</td>\n",
       "      <td>181.000000</td>\n",
       "    </tr>\n",
       "    <tr>\n",
       "      <th>25%</th>\n",
       "      <td>223.000000</td>\n",
       "      <td>88.000000</td>\n",
       "      <td>40.000000</td>\n",
       "      <td>70.000000</td>\n",
       "      <td>141.000000</td>\n",
       "      <td>57.000000</td>\n",
       "      <td>7.000000</td>\n",
       "      <td>147.000000</td>\n",
       "      <td>33.000000</td>\n",
       "      <td>19.000000</td>\n",
       "      <td>136.000000</td>\n",
       "      <td>167.000000</td>\n",
       "      <td>319.000000</td>\n",
       "      <td>148.000000</td>\n",
       "      <td>67.000000</td>\n",
       "      <td>2.000000</td>\n",
       "      <td>6.000000</td>\n",
       "      <td>185.000000</td>\n",
       "      <td>191.000000</td>\n",
       "    </tr>\n",
       "    <tr>\n",
       "      <th>50%</th>\n",
       "      <td>424.000000</td>\n",
       "      <td>93.000000</td>\n",
       "      <td>45.000000</td>\n",
       "      <td>80.000000</td>\n",
       "      <td>169.000000</td>\n",
       "      <td>61.000000</td>\n",
       "      <td>8.000000</td>\n",
       "      <td>157.000000</td>\n",
       "      <td>43.000000</td>\n",
       "      <td>20.000000</td>\n",
       "      <td>146.000000</td>\n",
       "      <td>179.000000</td>\n",
       "      <td>367.000000</td>\n",
       "      <td>174.000000</td>\n",
       "      <td>72.000000</td>\n",
       "      <td>5.000000</td>\n",
       "      <td>11.000000</td>\n",
       "      <td>188.000000</td>\n",
       "      <td>197.000000</td>\n",
       "    </tr>\n",
       "    <tr>\n",
       "      <th>75%</th>\n",
       "      <td>627.000000</td>\n",
       "      <td>100.000000</td>\n",
       "      <td>50.000000</td>\n",
       "      <td>98.000000</td>\n",
       "      <td>195.000000</td>\n",
       "      <td>65.000000</td>\n",
       "      <td>10.000000</td>\n",
       "      <td>201.000000</td>\n",
       "      <td>46.000000</td>\n",
       "      <td>23.000000</td>\n",
       "      <td>160.000000</td>\n",
       "      <td>218.000000</td>\n",
       "      <td>600.000000</td>\n",
       "      <td>200.000000</td>\n",
       "      <td>75.000000</td>\n",
       "      <td>9.000000</td>\n",
       "      <td>19.000000</td>\n",
       "      <td>193.000000</td>\n",
       "      <td>201.000000</td>\n",
       "    </tr>\n",
       "    <tr>\n",
       "      <th>max</th>\n",
       "      <td>843.000000</td>\n",
       "      <td>119.000000</td>\n",
       "      <td>58.000000</td>\n",
       "      <td>110.000000</td>\n",
       "      <td>333.000000</td>\n",
       "      <td>138.000000</td>\n",
       "      <td>49.000000</td>\n",
       "      <td>257.000000</td>\n",
       "      <td>58.000000</td>\n",
       "      <td>28.000000</td>\n",
       "      <td>188.000000</td>\n",
       "      <td>320.000000</td>\n",
       "      <td>968.000000</td>\n",
       "      <td>264.000000</td>\n",
       "      <td>135.000000</td>\n",
       "      <td>22.000000</td>\n",
       "      <td>41.000000</td>\n",
       "      <td>206.000000</td>\n",
       "      <td>211.000000</td>\n",
       "    </tr>\n",
       "  </tbody>\n",
       "</table>\n",
       "</div>"
      ],
      "text/plain": [
       "               0           1           2           3           4           5   \\\n",
       "count  549.000000  549.000000  549.000000  549.000000  549.000000  549.000000   \n",
       "mean   425.360656   93.998179   44.959927   82.331512  169.704918   61.735883   \n",
       "std    238.056297    8.145461    6.240777   15.577313   33.829764    8.046705   \n",
       "min      3.000000   76.000000   34.000000   44.000000  105.000000   47.000000   \n",
       "25%    223.000000   88.000000   40.000000   70.000000  141.000000   57.000000   \n",
       "50%    424.000000   93.000000   45.000000   80.000000  169.000000   61.000000   \n",
       "75%    627.000000  100.000000   50.000000   98.000000  195.000000   65.000000   \n",
       "max    843.000000  119.000000   58.000000  110.000000  333.000000  138.000000   \n",
       "\n",
       "               6           7           8           9           10          11  \\\n",
       "count  549.000000  549.000000  549.000000  549.000000  549.000000  549.000000   \n",
       "mean     8.531876  169.469945   40.739526   20.624772  148.258652  188.996357   \n",
       "std      4.308516   32.929441    7.730373    2.568302   14.730751   31.086822   \n",
       "min      2.000000  114.000000   26.000000   17.000000  120.000000  134.000000   \n",
       "25%      7.000000  147.000000   33.000000   19.000000  136.000000  167.000000   \n",
       "50%      8.000000  157.000000   43.000000   20.000000  146.000000  179.000000   \n",
       "75%     10.000000  201.000000   46.000000   23.000000  160.000000  218.000000   \n",
       "max     49.000000  257.000000   58.000000   28.000000  188.000000  320.000000   \n",
       "\n",
       "               12          13          14          15          16          17  \\\n",
       "count  549.000000  549.000000  549.000000  549.000000  549.000000  549.000000   \n",
       "mean   442.799636  174.978142   72.307832    6.380692   12.641166  189.080146   \n",
       "std    174.611644   32.857349    7.261660    4.975751    8.948995    6.199611   \n",
       "min    194.000000  112.000000   60.000000    0.000000    0.000000  176.000000   \n",
       "25%    319.000000  148.000000   67.000000    2.000000    6.000000  185.000000   \n",
       "50%    367.000000  174.000000   72.000000    5.000000   11.000000  188.000000   \n",
       "75%    600.000000  200.000000   75.000000    9.000000   19.000000  193.000000   \n",
       "max    968.000000  264.000000  135.000000   22.000000   41.000000  206.000000   \n",
       "\n",
       "               18  \n",
       "count  549.000000  \n",
       "mean   195.799636  \n",
       "std      7.398949  \n",
       "min    181.000000  \n",
       "25%    191.000000  \n",
       "50%    197.000000  \n",
       "75%    201.000000  \n",
       "max    211.000000  "
      ]
     },
     "execution_count": 148,
     "metadata": {},
     "output_type": "execute_result"
    }
   ],
   "source": [
    "X_train_pd.describe()"
   ]
  },
  {
   "cell_type": "code",
   "execution_count": 149,
   "metadata": {
    "scrolled": false
   },
   "outputs": [
    {
     "name": "stdout",
     "output_type": "stream",
     "text": [
      "<class 'pandas.core.frame.DataFrame'>\n",
      "RangeIndex: 549 entries, 0 to 548\n",
      "Data columns (total 19 columns):\n",
      " #   Column  Non-Null Count  Dtype\n",
      "---  ------  --------------  -----\n",
      " 0   0       549 non-null    int32\n",
      " 1   1       549 non-null    int32\n",
      " 2   2       549 non-null    int32\n",
      " 3   3       549 non-null    int32\n",
      " 4   4       549 non-null    int32\n",
      " 5   5       549 non-null    int32\n",
      " 6   6       549 non-null    int32\n",
      " 7   7       549 non-null    int32\n",
      " 8   8       549 non-null    int32\n",
      " 9   9       549 non-null    int32\n",
      " 10  10      549 non-null    int32\n",
      " 11  11      549 non-null    int32\n",
      " 12  12      549 non-null    int32\n",
      " 13  13      549 non-null    int32\n",
      " 14  14      549 non-null    int32\n",
      " 15  15      549 non-null    int32\n",
      " 16  16      549 non-null    int32\n",
      " 17  17      549 non-null    int32\n",
      " 18  18      549 non-null    int32\n",
      "dtypes: int32(19)\n",
      "memory usage: 40.9 KB\n"
     ]
    }
   ],
   "source": [
    "X_train_pd.info()"
   ]
  },
  {
   "cell_type": "markdown",
   "metadata": {
    "nbgrader": {
     "grade": false,
     "grade_id": "cell-be844269be69c387",
     "locked": true,
     "schema_version": 2,
     "solution": false
    }
   },
   "source": [
    "### 2. Machine Learning pipeline\n",
    "Here you are supposed to perform the desired transformations. Please, explain your results briefly after each task."
   ]
  },
  {
   "cell_type": "markdown",
   "metadata": {},
   "source": [
    "#### 2.0. Data preprocessing\n",
    "* Make some transformations of the dataset (if necessary). Briefly explain the transformations"
   ]
  },
  {
   "cell_type": "code",
   "execution_count": 150,
   "metadata": {
    "nbgrader": {
     "grade": true,
     "grade_id": "cell-a1514aa189a49fca",
     "locked": false,
     "points": 15,
     "schema_version": 2,
     "solution": true
    },
    "scrolled": false
   },
   "outputs": [],
   "source": [
    "### YOUR CODE HERE\n",
    "from sklearn.preprocessing import StandardScaler, LabelEncoder\n",
    "from sklearn.pipeline import Pipeline\n",
    "\n",
    "pipe_X = Pipeline([('scaler', StandardScaler())], verbose = False)\n",
    "X_train = pipe_X.fit_transform(X_train)\n",
    "X_test = pipe_X.fit_transform(X_test)\n",
    "\n",
    "le = LabelEncoder()\n",
    "y_train = le.fit_transform(y_train)\n",
    "y_test = le.fit_transform(y_test)"
   ]
  },
  {
   "cell_type": "markdown",
   "metadata": {},
   "source": [
    "#### 2.1. Basic logistic regression\n",
    "* Find optimal hyperparameters for logistic regression with cross-validation on the `train` data (small grid/random search is enough, no need to find the *best* parameters).\n",
    "\n",
    "* Estimate the model quality with `f1` and `accuracy` scores.\n",
    "* Plot a ROC-curve for the trained model. For the multiclass case you might use `scikitplot` library (e.g. `scikitplot.metrics.plot_roc(test_labels, predicted_proba)`).\n",
    "\n",
    "*Note: please, use the following hyperparameters for logistic regression: `multi_class='multinomial'`, `solver='saga'` `tol=1e-3` and ` max_iter=500`.*"
   ]
  },
  {
   "cell_type": "code",
   "execution_count": 151,
   "metadata": {
    "nbgrader": {
     "grade": true,
     "grade_id": "cell-1dd5ad5d0845cbbb",
     "locked": false,
     "points": 5,
     "schema_version": 2,
     "solution": true
    }
   },
   "outputs": [
    {
     "name": "stdout",
     "output_type": "stream",
     "text": [
      "For C=100 ~> f1 score: 0.8082671936734954, acc: 0.8051542952460384\n",
      "For C=10 ~> f1 score: 0.8073296021283024, acc: 0.8051542952460384\n",
      "For C=1 ~> f1 score: 0.7961793337763371, acc: 0.7941951626355297\n",
      "For C=0.1 ~> f1 score: 0.7529975951912011, acc: 0.7577981651376147\n",
      "For C=0.01 ~> f1 score: 0.6382229237740916, acc: 0.6557631359466223\n",
      "----------------------------------------------------------------------\n",
      "Accuracy: 0.7643097643097643\n",
      "F1 score: 0.7629137455060214\n"
     ]
    },
    {
     "data": {
      "text/plain": [
       "<AxesSubplot:title={'center':'ROC Curves'}, xlabel='False Positive Rate', ylabel='True Positive Rate'>"
      ]
     },
     "execution_count": 151,
     "metadata": {},
     "output_type": "execute_result"
    },
    {
     "data": {
      "image/png": "[encoded data removed]",
      "text/plain": [
       "<Figure size 432x288 with 1 Axes>"
      ]
     },
     "metadata": {},
     "output_type": "display_data"
    }
   ],
   "source": [
    "### YOUR CODE HERE\n",
    "from sklearn.linear_model import LogisticRegression\n",
    "from sklearn.model_selection import cross_val_score\n",
    "from scikitplot.metrics import plot_roc\n",
    "from sklearn.metrics import f1_score, accuracy_score\n",
    "\n",
    "import warnings\n",
    "warnings.filterwarnings(\"ignore\")\n",
    "                        \n",
    "C = [100, 10, 1, 0.1, 0.01]\n",
    "\n",
    "# A simple handwritten param search using cross-validation\n",
    "def cv_params(c_list, X_train, y_train):\n",
    "    for c in c_list:\n",
    "        model = LogisticRegression(C=c, multi_class='multinomial', solver='saga', tol=1e-3, max_iter=500)\n",
    "        f1_score = cross_val_score(model, X_train, y_train, scoring=\"f1_macro\", cv=5).mean()\n",
    "        acc = cross_val_score(model, X_train, y_train, scoring=\"accuracy\", cv=5).mean()\n",
    "        print(f\"For C={c} ~> f1 score: {f1_score}, acc: {acc}\")\n",
    "\n",
    "cv_params(C, X_train, y_train)\n",
    "\n",
    "# Finally let's estimate the model with given hyperparameters\n",
    "lr = LogisticRegression(C=100, multi_class='multinomial', solver='saga', tol=1e-3, max_iter=500)\n",
    "lr.fit(X_train, y_train)\n",
    "\n",
    "y_preds = lr.predict(X_test)\n",
    "y_probas = lr.predict_proba(X_test)\n",
    "# score = lr.score(X_test, y_test)\n",
    "# print(f\"Accuracy: {score}\")\n",
    "\n",
    "f1 = f1_score(y_test, y_preds, average=\"macro\")\n",
    "acc = accuracy_score(y_test, y_preds)\n",
    "print(\"-\"*70, f\"Accuracy: {acc}\", f\"F1 score: {f1}\", sep='\\n')\n",
    "\n",
    "plot_roc(y_test, y_probas)"
   ]
  },
  {
   "cell_type": "code",
   "execution_count": 132,
   "metadata": {},
   "outputs": [
    {
     "name": "stdout",
     "output_type": "stream",
     "text": [
      "Requirement already satisfied: scikit-plot in c:\\users\\hakob\\anaconda3\\lib\\site-packages (0.3.7)\n",
      "Requirement already satisfied: matplotlib>=1.4.0 in c:\\users\\hakob\\anaconda3\\lib\\site-packages (from scikit-plot) (3.3.4)\n",
      "Requirement already satisfied: scipy>=0.9 in c:\\users\\hakob\\anaconda3\\lib\\site-packages (from scikit-plot) (1.6.2)\n",
      "Requirement already satisfied: joblib>=0.10 in c:\\users\\hakob\\anaconda3\\lib\\site-packages (from scikit-plot) (1.0.1)\n",
      "Requirement already satisfied: scikit-learn>=0.18 in c:\\users\\hakob\\anaconda3\\lib\\site-packages (from scikit-plot) (0.24.1)\n",
      "Requirement already satisfied: kiwisolver>=1.0.1 in c:\\users\\hakob\\anaconda3\\lib\\site-packages (from matplotlib>=1.4.0->scikit-plot) (1.3.1)\n",
      "Requirement already satisfied: numpy>=1.15 in c:\\users\\hakob\\anaconda3\\lib\\site-packages (from matplotlib>=1.4.0->scikit-plot) (1.20.1)\n",
      "Requirement already satisfied: pillow>=6.2.0 in c:\\users\\hakob\\anaconda3\\lib\\site-packages (from matplotlib>=1.4.0->scikit-plot) (8.2.0)\n",
      "Requirement already satisfied: cycler>=0.10 in c:\\users\\hakob\\anaconda3\\lib\\site-packages (from matplotlib>=1.4.0->scikit-plot) (0.10.0)\n",
      "Requirement already satisfied: python-dateutil>=2.1 in c:\\users\\hakob\\anaconda3\\lib\\site-packages (from matplotlib>=1.4.0->scikit-plot) (2.8.1)\n",
      "Requirement already satisfied: pyparsing!=2.0.4,!=2.1.2,!=2.1.6,>=2.0.3 in c:\\users\\hakob\\anaconda3\\lib\\site-packages (from matplotlib>=1.4.0->scikit-plot) (2.4.7)\n",
      "Requirement already satisfied: six in c:\\users\\hakob\\anaconda3\\lib\\site-packages (from cycler>=0.10->matplotlib>=1.4.0->scikit-plot) (1.15.0)\n",
      "Requirement already satisfied: threadpoolctl>=2.0.0 in c:\\users\\hakob\\anaconda3\\lib\\site-packages (from scikit-learn>=0.18->scikit-plot) (2.1.0)\n"
     ]
    }
   ],
   "source": [
    "# You might use this command to install scikit-plot. \n",
    "# Warning, if you a running locally, don't call pip from within jupyter, call it from terminal in the corresponding \n",
    "# virtual environment instead\n",
    "\n",
    "! pip install scikit-plot"
   ]
  },
  {
   "cell_type": "markdown",
   "metadata": {},
   "source": [
    "#### 2.2. PCA: explained variance plot\n",
    "* Apply the PCA to the train part of the data. Build the explaided variance plot. "
   ]
  },
  {
   "cell_type": "code",
   "execution_count": 152,
   "metadata": {
    "nbgrader": {
     "grade": true,
     "grade_id": "cell-c6c614740bce090e",
     "locked": false,
     "points": 10,
     "schema_version": 2,
     "solution": true
    }
   },
   "outputs": [
    {
     "data": {
      "image/png": "[encoded data removed]",
      "text/plain": [
       "<Figure size 720x288 with 1 Axes>"
      ]
     },
     "metadata": {},
     "output_type": "display_data"
    },
    {
     "data": {
      "image/png": "[encoded data removed]",
      "text/plain": [
       "<Figure size 720x288 with 1 Axes>"
      ]
     },
     "metadata": {},
     "output_type": "display_data"
    }
   ],
   "source": [
    "### YOUR CODE HERE\n",
    "import matplotlib.pyplot as plt\n",
    "import seaborn as sns\n",
    "sns.set()\n",
    "from sklearn.decomposition import PCA\n",
    "\n",
    "pca = PCA().fit(X_train)\n",
    "plt.figure(figsize = (10, 4))\n",
    "plt.plot(np.cumsum(pca.explained_variance_ratio_), c = \"g\", linewidth = 3)\n",
    "plt.scatter(np.arange(0, 19), np.cumsum(pca.explained_variance_ratio_), c = \"b\", linewidth = 3)\n",
    "plt.xlabel('number of components')\n",
    "plt.ylabel('cumulative explained variance');\n",
    "\n",
    "features = range(pca.n_components_)\n",
    "plt.figure(figsize=(10, 4))\n",
    "plt.bar(features, pca.explained_variance_)\n",
    "plt.xlabel('PCA feature')\n",
    "plt.ylabel('Variance')\n",
    "plt.xticks(features)\n",
    "plt.title(\"Importance of the Principal Components based on inertia\")\n",
    "plt.show()"
   ]
  },
  {
   "cell_type": "markdown",
   "metadata": {
    "nbgrader": {
     "grade": false,
     "grade_id": "cell-0c1fe666f52fe53c",
     "locked": true,
     "schema_version": 2,
     "solution": false
    }
   },
   "source": [
    "#### 2.3. PCA trasformation\n",
    "* Select the appropriate number of components. Briefly explain your choice. Should you normalize the data?\n",
    "\n",
    "*Use `fit` and `transform` methods to transform the `train` and `test` parts.*"
   ]
  },
  {
   "cell_type": "code",
   "execution_count": 162,
   "metadata": {
    "nbgrader": {
     "grade": true,
     "grade_id": "cell-96ab18d96473ef71",
     "locked": false,
     "points": 5,
     "schema_version": 2,
     "solution": true
    }
   },
   "outputs": [
    {
     "data": {
      "text/html": [
       "<div>\n",
       "<style scoped>\n",
       "    .dataframe tbody tr th:only-of-type {\n",
       "        vertical-align: middle;\n",
       "    }\n",
       "\n",
       "    .dataframe tbody tr th {\n",
       "        vertical-align: top;\n",
       "    }\n",
       "\n",
       "    .dataframe thead th {\n",
       "        text-align: right;\n",
       "    }\n",
       "</style>\n",
       "<table border=\"1\" class=\"dataframe\">\n",
       "  <thead>\n",
       "    <tr style=\"text-align: right;\">\n",
       "      <th></th>\n",
       "      <th>0</th>\n",
       "      <th>1</th>\n",
       "      <th>2</th>\n",
       "      <th>3</th>\n",
       "      <th>4</th>\n",
       "      <th>5</th>\n",
       "      <th>6</th>\n",
       "      <th>7</th>\n",
       "      <th>8</th>\n",
       "      <th>9</th>\n",
       "      <th>10</th>\n",
       "    </tr>\n",
       "  </thead>\n",
       "  <tbody>\n",
       "    <tr>\n",
       "      <th>0</th>\n",
       "      <td>-5.383294</td>\n",
       "      <td>1.841539</td>\n",
       "      <td>0.112942</td>\n",
       "      <td>-1.371658</td>\n",
       "      <td>-0.101711</td>\n",
       "      <td>-0.852761</td>\n",
       "      <td>-0.016674</td>\n",
       "      <td>0.002778</td>\n",
       "      <td>-0.572986</td>\n",
       "      <td>-0.481879</td>\n",
       "      <td>0.191983</td>\n",
       "    </tr>\n",
       "    <tr>\n",
       "      <th>1</th>\n",
       "      <td>3.705403</td>\n",
       "      <td>1.336931</td>\n",
       "      <td>0.354103</td>\n",
       "      <td>0.374008</td>\n",
       "      <td>-2.291685</td>\n",
       "      <td>-0.328185</td>\n",
       "      <td>-0.008248</td>\n",
       "      <td>-0.669689</td>\n",
       "      <td>-0.416778</td>\n",
       "      <td>0.162910</td>\n",
       "      <td>-0.561908</td>\n",
       "    </tr>\n",
       "    <tr>\n",
       "      <th>2</th>\n",
       "      <td>0.572485</td>\n",
       "      <td>-1.806925</td>\n",
       "      <td>0.057056</td>\n",
       "      <td>-0.526168</td>\n",
       "      <td>0.958707</td>\n",
       "      <td>-0.890272</td>\n",
       "      <td>0.807348</td>\n",
       "      <td>-0.397157</td>\n",
       "      <td>-1.101802</td>\n",
       "      <td>0.075620</td>\n",
       "      <td>0.128501</td>\n",
       "    </tr>\n",
       "    <tr>\n",
       "      <th>3</th>\n",
       "      <td>0.864566</td>\n",
       "      <td>-0.570638</td>\n",
       "      <td>-0.561512</td>\n",
       "      <td>0.916659</td>\n",
       "      <td>0.532598</td>\n",
       "      <td>-0.573837</td>\n",
       "      <td>-0.160633</td>\n",
       "      <td>-1.068571</td>\n",
       "      <td>-0.552173</td>\n",
       "      <td>0.694796</td>\n",
       "      <td>-0.131261</td>\n",
       "    </tr>\n",
       "    <tr>\n",
       "      <th>4</th>\n",
       "      <td>-0.692041</td>\n",
       "      <td>0.858924</td>\n",
       "      <td>0.491974</td>\n",
       "      <td>0.394151</td>\n",
       "      <td>-0.075529</td>\n",
       "      <td>0.253395</td>\n",
       "      <td>-1.177892</td>\n",
       "      <td>-0.149304</td>\n",
       "      <td>-0.059485</td>\n",
       "      <td>-0.104234</td>\n",
       "      <td>0.430854</td>\n",
       "    </tr>\n",
       "    <tr>\n",
       "      <th>...</th>\n",
       "      <td>...</td>\n",
       "      <td>...</td>\n",
       "      <td>...</td>\n",
       "      <td>...</td>\n",
       "      <td>...</td>\n",
       "      <td>...</td>\n",
       "      <td>...</td>\n",
       "      <td>...</td>\n",
       "      <td>...</td>\n",
       "      <td>...</td>\n",
       "      <td>...</td>\n",
       "    </tr>\n",
       "    <tr>\n",
       "      <th>544</th>\n",
       "      <td>-2.345298</td>\n",
       "      <td>2.619772</td>\n",
       "      <td>0.702918</td>\n",
       "      <td>-0.437653</td>\n",
       "      <td>-1.654276</td>\n",
       "      <td>0.536829</td>\n",
       "      <td>0.028357</td>\n",
       "      <td>-0.646009</td>\n",
       "      <td>-0.119569</td>\n",
       "      <td>-0.086108</td>\n",
       "      <td>-0.074759</td>\n",
       "    </tr>\n",
       "    <tr>\n",
       "      <th>545</th>\n",
       "      <td>-4.249199</td>\n",
       "      <td>-1.665153</td>\n",
       "      <td>-1.040045</td>\n",
       "      <td>2.884642</td>\n",
       "      <td>1.515995</td>\n",
       "      <td>-0.517024</td>\n",
       "      <td>-0.096858</td>\n",
       "      <td>-0.250418</td>\n",
       "      <td>-0.321304</td>\n",
       "      <td>0.384018</td>\n",
       "      <td>-0.060888</td>\n",
       "    </tr>\n",
       "    <tr>\n",
       "      <th>546</th>\n",
       "      <td>2.792179</td>\n",
       "      <td>0.340786</td>\n",
       "      <td>-0.357776</td>\n",
       "      <td>0.403729</td>\n",
       "      <td>-0.210971</td>\n",
       "      <td>1.099961</td>\n",
       "      <td>0.899432</td>\n",
       "      <td>-0.343968</td>\n",
       "      <td>0.366011</td>\n",
       "      <td>0.241253</td>\n",
       "      <td>0.166606</td>\n",
       "    </tr>\n",
       "    <tr>\n",
       "      <th>547</th>\n",
       "      <td>-4.084367</td>\n",
       "      <td>3.027488</td>\n",
       "      <td>-0.329980</td>\n",
       "      <td>1.170988</td>\n",
       "      <td>0.993489</td>\n",
       "      <td>-0.464321</td>\n",
       "      <td>0.119654</td>\n",
       "      <td>0.189703</td>\n",
       "      <td>-0.218927</td>\n",
       "      <td>-0.032327</td>\n",
       "      <td>0.178239</td>\n",
       "    </tr>\n",
       "    <tr>\n",
       "      <th>548</th>\n",
       "      <td>2.933112</td>\n",
       "      <td>-1.709168</td>\n",
       "      <td>-0.744040</td>\n",
       "      <td>2.791899</td>\n",
       "      <td>0.531532</td>\n",
       "      <td>-0.112814</td>\n",
       "      <td>-0.178872</td>\n",
       "      <td>0.462669</td>\n",
       "      <td>-0.428740</td>\n",
       "      <td>0.061267</td>\n",
       "      <td>-0.144686</td>\n",
       "    </tr>\n",
       "  </tbody>\n",
       "</table>\n",
       "<p>549 rows × 11 columns</p>\n",
       "</div>"
      ],
      "text/plain": [
       "           0         1         2         3         4         5         6   \\\n",
       "0   -5.383294  1.841539  0.112942 -1.371658 -0.101711 -0.852761 -0.016674   \n",
       "1    3.705403  1.336931  0.354103  0.374008 -2.291685 -0.328185 -0.008248   \n",
       "2    0.572485 -1.806925  0.057056 -0.526168  0.958707 -0.890272  0.807348   \n",
       "3    0.864566 -0.570638 -0.561512  0.916659  0.532598 -0.573837 -0.160633   \n",
       "4   -0.692041  0.858924  0.491974  0.394151 -0.075529  0.253395 -1.177892   \n",
       "..        ...       ...       ...       ...       ...       ...       ...   \n",
       "544 -2.345298  2.619772  0.702918 -0.437653 -1.654276  0.536829  0.028357   \n",
       "545 -4.249199 -1.665153 -1.040045  2.884642  1.515995 -0.517024 -0.096858   \n",
       "546  2.792179  0.340786 -0.357776  0.403729 -0.210971  1.099961  0.899432   \n",
       "547 -4.084367  3.027488 -0.329980  1.170988  0.993489 -0.464321  0.119654   \n",
       "548  2.933112 -1.709168 -0.744040  2.791899  0.531532 -0.112814 -0.178872   \n",
       "\n",
       "           7         8         9         10  \n",
       "0    0.002778 -0.572986 -0.481879  0.191983  \n",
       "1   -0.669689 -0.416778  0.162910 -0.561908  \n",
       "2   -0.397157 -1.101802  0.075620  0.128501  \n",
       "3   -1.068571 -0.552173  0.694796 -0.131261  \n",
       "4   -0.149304 -0.059485 -0.104234  0.430854  \n",
       "..        ...       ...       ...       ...  \n",
       "544 -0.646009 -0.119569 -0.086108 -0.074759  \n",
       "545 -0.250418 -0.321304  0.384018 -0.060888  \n",
       "546 -0.343968  0.366011  0.241253  0.166606  \n",
       "547  0.189703 -0.218927 -0.032327  0.178239  \n",
       "548  0.462669 -0.428740  0.061267 -0.144686  \n",
       "\n",
       "[549 rows x 11 columns]"
      ]
     },
     "execution_count": 162,
     "metadata": {},
     "output_type": "execute_result"
    }
   ],
   "source": [
    "### YOUR CODE HERE\n",
    "\n",
    "# It can be seen from the graph above that 11 components\n",
    "# are needed to preserve about 99 percent of the variance.\n",
    "# Therefore, we select the first 11 most important components\n",
    "pca = PCA(n_components=11)\n",
    "\n",
    "PrincipalComponentsTrain = pca.fit_transform(X_train)\n",
    "PrincipalTrain = pd.DataFrame(data = PrincipalComponentsTrain)\n",
    "\n",
    "PrincipalComponentsTest = pca.transform(X_test)\n",
    "PrincipalTest = pd.DataFrame(data = PrincipalComponentsTest)\n",
    "\n",
    "PrincipalTrain"
   ]
  },
  {
   "cell_type": "markdown",
   "metadata": {},
   "source": [
    "**Note: From this point `sklearn` [Pipeline](https://scikit-learn.org/stable/modules/compose.html) might be useful to perform transformations on the data. Refer to the [docs](https://scikit-learn.org/stable/modules/generated/sklearn.pipeline.Pipeline.html) for more information.**"
   ]
  },
  {
   "cell_type": "markdown",
   "metadata": {
    "nbgrader": {
     "grade": false,
     "grade_id": "cell-d28b58a35c94e988",
     "locked": true,
     "schema_version": 2,
     "solution": false
    }
   },
   "source": [
    "#### 2.4. Logistic regression on PCA-preprocessed data.\n",
    "* Find optimal hyperparameters for logistic regression with cross-validation on the transformed by PCA `train` data.\n",
    "\n",
    "* Estimate the model quality with `f1` and `accuracy` scores.\n",
    "* Plot a ROC-curve for the trained model. For the multiclass case you might use `scikitplot` library (e.g. `scikitplot.metrics.plot_roc(test_labels, predicted_proba)`).\n",
    "\n",
    "*Note: please, use the following hyperparameters for logistic regression: `multi_class='multinomial'`, `solver='saga'` and `tol=1e-3`*"
   ]
  },
  {
   "cell_type": "code",
   "execution_count": 163,
   "metadata": {
    "nbgrader": {
     "grade": true,
     "grade_id": "cell-12d53ea45258fa82",
     "locked": false,
     "points": 5,
     "schema_version": 2,
     "solution": true
    }
   },
   "outputs": [
    {
     "data": {
      "text/plain": [
       "GridSearchCV(estimator=LogisticRegression(max_iter=500,\n",
       "                                          multi_class='multinomial', n_jobs=-1,\n",
       "                                          penalty='elasticnet', solver='saga',\n",
       "                                          tol=0.001),\n",
       "             param_grid={'C': [100, 10, 1, 0.1, 0.01],\n",
       "                         'l1_ratio': array([0.  , 0.25, 0.5 , 0.75, 1.  ])})"
      ]
     },
     "execution_count": 163,
     "metadata": {},
     "output_type": "execute_result"
    }
   ],
   "source": [
    "### YOUR CODE HERE\n",
    "from sklearn.model_selection import GridSearchCV\n",
    "\n",
    "params = { \n",
    "    \"C\" : [100, 10, 1, 0.1, 0.01],\n",
    "    \"l1_ratio\" : np.linspace(0, 1, 5)\n",
    "}\n",
    "\n",
    "lr = LogisticRegression(penalty=\"elasticnet\", multi_class='multinomial', solver='saga', tol=1e-3, max_iter=500, n_jobs=-1)\n",
    "\n",
    "grid = GridSearchCV(lr, params)\n",
    "grid.fit(PrincipalTrain, y_train)"
   ]
  },
  {
   "cell_type": "code",
   "execution_count": 164,
   "metadata": {},
   "outputs": [
    {
     "name": "stdout",
     "output_type": "stream",
     "text": [
      "Best params: {'C': 100, 'l1_ratio': 0.0}\n",
      "Best score: 0.7541117597998331\n"
     ]
    }
   ],
   "source": [
    "print(f\"Best params: {grid.best_params_}\")\n",
    "print(f\"Best score: {grid.best_score_}\")"
   ]
  },
  {
   "cell_type": "code",
   "execution_count": 165,
   "metadata": {},
   "outputs": [
    {
     "name": "stdout",
     "output_type": "stream",
     "text": [
      "----------------------------------------------------------------------\n",
      "Accuracy: 0.6632996632996633\n",
      "F1 score: 0.6600732953815216\n"
     ]
    },
    {
     "data": {
      "text/plain": [
       "<AxesSubplot:title={'center':'ROC Curves'}, xlabel='False Positive Rate', ylabel='True Positive Rate'>"
      ]
     },
     "execution_count": 165,
     "metadata": {},
     "output_type": "execute_result"
    },
    {
     "data": {
      "image/png": "[encoded data removed]",
      "text/plain": [
       "<Figure size 432x288 with 1 Axes>"
      ]
     },
     "metadata": {},
     "output_type": "display_data"
    }
   ],
   "source": [
    "lr = LogisticRegression(penalty=\"elasticnet\", multi_class='multinomial', \n",
    "                        solver='saga', tol=1e-3, max_iter=500, n_jobs=-1,\n",
    "                        C=100, l1_ratio=0.0)\n",
    "\n",
    "lr.fit(PrincipalTrain, y_train)\n",
    "\n",
    "y_preds = lr.predict(PrincipalTest)\n",
    "y_probas = lr.predict_proba(PrincipalTest)\n",
    "# score = lr.score(X_test, y_test)\n",
    "# print(f\"Accuracy: {score}\")\n",
    "\n",
    "f1 = f1_score(y_test, y_preds, average=\"macro\")\n",
    "acc = accuracy_score(y_test, y_preds)\n",
    "print(\"-\"*70, f\"Accuracy: {acc}\", f\"F1 score: {f1}\", sep='\\n')\n",
    "\n",
    "plot_roc(y_test, y_probas)"
   ]
  },
  {
   "cell_type": "markdown",
   "metadata": {
    "nbgrader": {
     "grade": false,
     "grade_id": "cell-4fbf16c64076e139",
     "locked": true,
     "schema_version": 2,
     "solution": false
    }
   },
   "source": [
    "#### 2.5. Decision tree\n",
    "* Now train a desicion tree on the same data. Find optimal tree depth (`max_depth`) using cross-validation.\n",
    "\n",
    "* Measure the model quality using the same metrics you used above."
   ]
  },
  {
   "cell_type": "code",
   "execution_count": 314,
   "metadata": {},
   "outputs": [
    {
     "name": "stdout",
     "output_type": "stream",
     "text": [
      "Best params: {'max_depth': 15}\n",
      "Best score: 0.6740617180984153\n"
     ]
    }
   ],
   "source": [
    "# YOUR CODE HERE\n",
    "from sklearn.tree import DecisionTreeClassifier\n",
    "\n",
    "tree_params = {\"max_depth\" : [None] + list(np.arange(10, 45, 5))}\n",
    "\n",
    "TreeClf = DecisionTreeClassifier()\n",
    "\n",
    "grid = GridSearchCV(TreeClf, tree_params)\n",
    "grid.fit(X_train, y_train)\n",
    "\n",
    "print(f\"Best params: {grid.best_params_}\")\n",
    "print(f\"Best score: {grid.best_score_}\")"
   ]
  },
  {
   "cell_type": "code",
   "execution_count": 327,
   "metadata": {
    "nbgrader": {
     "grade": true,
     "grade_id": "cell-748ed20b51c67fab",
     "locked": false,
     "points": 15,
     "schema_version": 2,
     "solution": true
    }
   },
   "outputs": [
    {
     "name": "stdout",
     "output_type": "stream",
     "text": [
      "----------------------------------------------------------------------\n",
      "Accuracy: 0.7272727272727273\n",
      "F1 score: 0.7234039592248547\n"
     ]
    },
    {
     "data": {
      "text/plain": [
       "<AxesSubplot:title={'center':'ROC Curves'}, xlabel='False Positive Rate', ylabel='True Positive Rate'>"
      ]
     },
     "execution_count": 327,
     "metadata": {},
     "output_type": "execute_result"
    },
    {
     "data": {
      "image/png": "[encoded data removed]",
      "text/plain": [
       "<Figure size 432x288 with 1 Axes>"
      ]
     },
     "metadata": {},
     "output_type": "display_data"
    }
   ],
   "source": [
    "# YOUR CODE HERE\n",
    "\n",
    "TreeClf = DecisionTreeClassifier(max_depth=15)\n",
    "TreeClf.fit(X_train, y_train)\n",
    "\n",
    "y_preds = TreeClf.predict(X_test)\n",
    "y_probas = TreeClf.predict_proba(X_test)\n",
    "# score = lr.score(X_test, y_test)\n",
    "# print(f\"Accuracy: {score}\")\n",
    "\n",
    "f1 = f1_score(y_test, y_preds, average=\"macro\")\n",
    "acc = accuracy_score(y_test, y_preds)\n",
    "print(\"-\"*70, f\"Accuracy: {acc}\", f\"F1 score: {f1}\", sep='\\n')\n",
    "\n",
    "plot_roc(y_test, y_probas)"
   ]
  },
  {
   "cell_type": "markdown",
   "metadata": {
    "nbgrader": {
     "grade": false,
     "grade_id": "cell-9eadd4d8a03ae67a",
     "locked": true,
     "schema_version": 2,
     "solution": false
    }
   },
   "source": [
    "#### 2.6. Bagging.\n",
    "Here starts the ensembling part.\n",
    "\n",
    "First we will use the __Bagging__ approach. Build an ensemble of $N$ algorithms varying N from $N_{min}=2$ to $N_{max}=100$ (with step 5).\n",
    "\n",
    "We will build two ensembles: of logistic regressions and of decision trees.\n",
    "\n",
    "*Comment: each ensemble should be constructed from models of the same family, so logistic regressions should not be mixed up with decision trees.*\n",
    "\n",
    "\n",
    "*Hint 1: To build a __Bagging__ ensebmle varying the ensemble size efficiently you might generate $N_{max}$ subsets of `train` data (of the same size as the original dataset) using bootstrap procedure once. Then you train a new instance of logistic regression/decision tree with optimal hyperparameters you estimated before on each subset (so you train it from scratch). Finally, to get an ensemble of $N$ models you average the $N$ out of $N_{max}$ models predictions.*\n",
    "\n",
    "*Hint 2: sklearn might help you with this taks. Some appropriate function/class might be out there.*\n",
    "\n",
    "* Plot `f1` and `accuracy` scores plots w.r.t. the size of the ensemble.\n",
    "\n",
    "* Briefly analyse the plot. What is the optimal number of algorithms? Explain your answer.\n",
    "\n",
    "* How do you think, are the hyperparameters for the decision trees you found in 2.5 optimal for trees used in ensemble? "
   ]
  },
  {
   "cell_type": "markdown",
   "metadata": {},
   "source": [
    "\n",
    "**Bagging + LogisticRegression**\n"
   ]
  },
  {
   "cell_type": "code",
   "execution_count": 355,
   "metadata": {
    "nbgrader": {
     "grade": true,
     "grade_id": "cell-8fc95a2b206bdae1",
     "locked": false,
     "points": 35,
     "schema_version": 2,
     "solution": true
    }
   },
   "outputs": [
    {
     "name": "stdout",
     "output_type": "stream",
     "text": [
      "Best accuracy on CV is 72.81% with 62 trees\n"
     ]
    }
   ],
   "source": [
    "# YOUR CODE HERE\n",
    "from sklearn.ensemble import BaggingClassifier\n",
    "from sklearn.model_selection import StratifiedKFold\n",
    "\n",
    "trees_grid = np.arange(2, 100, 5)\n",
    "\n",
    "# Инициализируем валидацию\n",
    "skf = StratifiedKFold(n_splits=5, shuffle=True, random_state=42)\n",
    "\n",
    "# Создаем списки для сохранения точности на тренировочном и тестовом датасете\n",
    "train_acc = []\n",
    "test_acc = []\n",
    "temp_train_acc = []\n",
    "temp_test_acc = []\n",
    "\n",
    "# Обучаем на тренировочном датасете\n",
    "for ntrees in trees_grid:\n",
    "    lr = LogisticRegression(penalty=\"elasticnet\", multi_class='multinomial', \n",
    "                        solver='saga', tol=1e-3, max_iter=500, n_jobs=-1,\n",
    "                        C=100, l1_ratio=0.0)\n",
    "    bag = BaggingClassifier(lr, n_estimators=ntrees, random_state=42, n_jobs=-1, oob_score=True)\n",
    "    temp_train_acc = []\n",
    "    temp_test_acc = []\n",
    "    for train_index, test_index in skf.split(data, target):\n",
    "        X_train, X_test = data[train_index, :], data[test_index, :]\n",
    "        y_train, y_test = target[train_index], target[test_index]\n",
    "        bag.fit(X_train, y_train)\n",
    "        temp_train_acc.append(bag.score(X_train, y_train))\n",
    "        temp_test_acc.append(bag.score(X_test, y_test))\n",
    "    train_acc.append(temp_train_acc)\n",
    "    test_acc.append(temp_test_acc)\n",
    "\n",
    "train_acc, test_acc = np.asarray(train_acc), np.asarray(test_acc)\n",
    "print(\"Best accuracy on CV is {:.2f}% with {} trees\".format(max(test_acc.mean(axis=1))*100, \n",
    "                                                        trees_grid[np.argmax(test_acc.mean(axis=1))]))"
   ]
  },
  {
   "cell_type": "code",
   "execution_count": 362,
   "metadata": {},
   "outputs": [
    {
     "name": "stdout",
     "output_type": "stream",
     "text": [
      "----------------------------------------------------------------------\n",
      "Accuracy: 0.6863905325443787\n",
      "F1 score: 0.6798060616379373\n"
     ]
    },
    {
     "data": {
      "text/plain": [
       "<AxesSubplot:title={'center':'ROC Curves'}, xlabel='False Positive Rate', ylabel='True Positive Rate'>"
      ]
     },
     "execution_count": 362,
     "metadata": {},
     "output_type": "execute_result"
    },
    {
     "data": {
      "image/png": "[encoded data removed]",
      "text/plain": [
       "<Figure size 432x288 with 1 Axes>"
      ]
     },
     "metadata": {},
     "output_type": "display_data"
    }
   ],
   "source": [
    "lr = LogisticRegression(penalty=\"elasticnet\", multi_class='multinomial', \n",
    "                        solver='saga', tol=1e-3, max_iter=500, n_jobs=-1,\n",
    "                        C=100, l1_ratio=0.0)\n",
    "bag = BaggingClassifier(lr, n_estimators=62, random_state=42, n_jobs=-1, oob_score=True)\n",
    "bag.fit(X_train, y_train)\n",
    "\n",
    "y_preds = bag.predict(X_test)\n",
    "y_probas = bag.predict_proba(X_test)\n",
    "# score = lr.score(X_test, y_test)\n",
    "# print(f\"Accuracy: {score}\")\n",
    "\n",
    "f1 = f1_score(y_test, y_preds, average=\"macro\")\n",
    "acc = accuracy_score(y_test, y_preds)\n",
    "print(\"-\"*70, f\"Accuracy: {acc}\", f\"F1 score: {f1}\", sep='\\n')\n",
    "\n",
    "plot_roc(y_test, y_probas)"
   ]
  },
  {
   "cell_type": "markdown",
   "metadata": {},
   "source": [
    "**Bagging + DecisionTreeClassifier**"
   ]
  },
  {
   "cell_type": "code",
   "execution_count": 336,
   "metadata": {},
   "outputs": [
    {
     "name": "stdout",
     "output_type": "stream",
     "text": [
      "Best accuracy on CV is 74.12% with 7 trees\n"
     ]
    }
   ],
   "source": [
    "trees_grid = np.arange(2, 100, 5)\n",
    "\n",
    "# Инициализируем валидацию\n",
    "skf = StratifiedKFold(n_splits=5, shuffle=True, random_state=42)\n",
    "\n",
    "# Создаем списки для сохранения точности на тренировочном и тестовом датасете\n",
    "train_acc = []\n",
    "test_acc = []\n",
    "temp_train_acc = []\n",
    "temp_test_acc = []\n",
    "\n",
    "# Обучаем на тренировочном датасете\n",
    "for ntrees in trees_grid:\n",
    "    tree = DecisionTreeClassifier(max_depth=15)\n",
    "    bag = BaggingClassifier(tree, n_estimators=ntrees, random_state=42, n_jobs=-1, oob_score=True)\n",
    "    temp_train_acc = []\n",
    "    temp_test_acc = []\n",
    "    for train_index, test_index in skf.split(data, target):\n",
    "        X_train, X_test = data[train_index, :], data[test_index, :]\n",
    "        y_train, y_test = target[train_index], target[test_index]\n",
    "        bag.fit(X_train, y_train)\n",
    "        temp_train_acc.append(bag.score(X_train, y_train))\n",
    "        temp_test_acc.append(bag.score(X_test, y_test))\n",
    "    train_acc.append(temp_train_acc)\n",
    "    test_acc.append(temp_test_acc)\n",
    "\n",
    "train_acc, test_acc = np.asarray(train_acc), np.asarray(test_acc)\n",
    "print(\"Best accuracy on CV is {:.2f}% with {} trees\".format(max(test_acc.mean(axis=1))*100, \n",
    "                                                        trees_grid[np.argmax(test_acc.mean(axis=1))]))"
   ]
  },
  {
   "cell_type": "markdown",
   "metadata": {
    "nbgrader": {
     "grade": false,
     "grade_id": "cell-241b7691ab44cbfb",
     "locked": true,
     "schema_version": 2,
     "solution": false
    }
   },
   "source": [
    "#### 2.7. Random Forest\n",
    "Now we will work with the Random Forest (its `sklearn` implementation).\n",
    "\n",
    "* * Plot `f1` and `accuracy` scores plots w.r.t. the number of trees in Random Forest.\n",
    "\n",
    "* What is the optimal number of trees you've got? Is it different from the optimal number of logistic regressions/decision trees in 2.6? Explain the results briefly."
   ]
  },
  {
   "cell_type": "code",
   "execution_count": 376,
   "metadata": {
    "nbgrader": {
     "grade": true,
     "grade_id": "cell-888755d0f3d91620",
     "locked": false,
     "points": 15,
     "schema_version": 2,
     "solution": true
    }
   },
   "outputs": [
    {
     "name": "stdout",
     "output_type": "stream",
     "text": [
      "Fitting 5 folds for each of 1920 candidates, totalling 9600 fits\n",
      "Best params: {'max_depth': 10, 'max_features': 7, 'min_samples_leaf': 1, 'n_estimators': 22}\n",
      "Best score: 0.7696949891067538\n"
     ]
    }
   ],
   "source": [
    "# YOUR CODE HERE\n",
    "from sklearn.ensemble import RandomForestClassifier\n",
    "\n",
    "skf = StratifiedKFold(n_splits=5, shuffle=True, random_state=42)\n",
    "\n",
    "parameters = {\n",
    "    'n_estimators': np.arange(2, 100, 5),\n",
    "    'max_features': [4, 7, 10, 13, 16, 18],\n",
    "    'min_samples_leaf': [1, 3, 5, 7],\n",
    "    'max_depth': [5,10,15,20]\n",
    "}\n",
    "\n",
    "rfc = RandomForestClassifier(random_state=42, n_jobs=-1, oob_score=True)\n",
    "gcv = GridSearchCV(rfc, parameters, n_jobs=-1, cv=skf, verbose=1)\n",
    "gcv.fit(X_train, y_train)\n",
    "\n",
    "print(f\"Best params: {gcv.best_params_}\")\n",
    "print(f\"Best score: {gcv.best_score_}\")"
   ]
  },
  {
   "cell_type": "code",
   "execution_count": 377,
   "metadata": {},
   "outputs": [
    {
     "name": "stdout",
     "output_type": "stream",
     "text": [
      "----------------------------------------------------------------------\n",
      "Accuracy: 0.7514792899408284\n",
      "F1 score: 0.7520924981726376\n"
     ]
    },
    {
     "data": {
      "text/plain": [
       "<AxesSubplot:title={'center':'ROC Curves'}, xlabel='False Positive Rate', ylabel='True Positive Rate'>"
      ]
     },
     "execution_count": 377,
     "metadata": {},
     "output_type": "execute_result"
    },
    {
     "data": {
      "image/png": "[encoded data removed]",
      "text/plain": [
       "<Figure size 432x288 with 1 Axes>"
      ]
     },
     "metadata": {},
     "output_type": "display_data"
    }
   ],
   "source": [
    "rfc = RandomForestClassifier(max_depth=10, max_features=7, min_samples_leaf=1,\n",
    "                             n_estimators=22, random_state=42, n_jobs=-1, oob_score=True)\n",
    "rfc.fit(X_train, y_train)\n",
    "\n",
    "y_preds = rfc.predict(X_test)\n",
    "y_probas = rfc.predict_proba(X_test)\n",
    "# score = lr.score(X_test, y_test)\n",
    "# print(f\"Accuracy: {score}\")\n",
    "\n",
    "f1 = f1_score(y_test, y_preds, average=\"macro\")\n",
    "acc = accuracy_score(y_test, y_preds)\n",
    "print(\"-\"*70, f\"Accuracy: {acc}\", f\"F1 score: {f1}\", sep='\\n')\n",
    "\n",
    "plot_roc(y_test, y_probas)"
   ]
  },
  {
   "cell_type": "markdown",
   "metadata": {
    "nbgrader": {
     "grade": false,
     "grade_id": "cell-99191c0852538d4d",
     "locked": true,
     "schema_version": 2,
     "solution": false
    }
   },
   "source": [
    "#### 2.8. Learning curve\n",
    "Your goal is to estimate, how does the model behaviour change with the increase of the `train` dataset size.\n",
    "\n",
    "* Split the training data into 10 equal (almost) parts. Then train the models from above (Logistic regression, Desicion Tree, Random Forest) with optimal hyperparameters you have selected on 1 part, 2 parts (combined, so the train size in increased by 2 times), 3 parts and so on.\n",
    "\n",
    "* Build a plot of `accuracy` and `f1` scores on `test` part, varying the `train` dataset size (so the axes will be score - dataset size.\n",
    "\n",
    "* Analyse the final plot. Can you make any conlusions using it? "
   ]
  },
  {
   "cell_type": "code",
   "execution_count": null,
   "metadata": {
    "nbgrader": {
     "grade": true,
     "grade_id": "cell-e39bc7e7dff61ff9",
     "locked": false,
     "points": 15,
     "schema_version": 2,
     "solution": true
    }
   },
   "outputs": [],
   "source": [
    "# YOUR CODE HERE"
   ]
  }
 ],
 "metadata": {
  "celltoolbar": "Create Assignment",
  "kernelspec": {
   "display_name": "Python 3",
   "language": "python",
   "name": "python3"
  },
  "language_info": {
   "codemirror_mode": {
    "name": "ipython",
    "version": 3
   },
   "file_extension": ".py",
   "mimetype": "text/x-python",
   "name": "python",
   "nbconvert_exporter": "python",
   "pygments_lexer": "ipython3",
   "version": "3.8.8"
  },
  "toc": {
   "base_numbering": 1,
   "nav_menu": {},
   "number_sections": false,
   "sideBar": true,
   "skip_h1_title": false,
   "title_cell": "Table of Contents",
   "title_sidebar": "Contents",
   "toc_cell": false,
   "toc_position": {},
   "toc_section_display": true,
   "toc_window_display": false
  }
 },
 "nbformat": 4,
 "nbformat_minor": 4
}
